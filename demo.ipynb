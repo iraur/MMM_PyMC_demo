{
 "cells": [
  {
   "cell_type": "markdown",
   "metadata": {},
   "source": [
    "# Demo | Specifying a Bayesian Model in PyMC\n",
    "\n",
    "- This notebook is used for reference in a series of articles on MMM - [see here](https://www.notion.so/qonto/v1-Marketing-Mix-Models-at-Qonto-Part-IV-Specifying-a-Bayesian-Model-with-PyMC-1f96f02ec80a4d619f4ef26e86d6603c?pvs=4)\n",
    "- Note : the fictitous dataset used in this notebook was taken from [Project Robyn](https://github.com/facebookexperimental/Robyn/tree/main/R/data) and is not representative of Qonto's marketing activity"
   ]
  },
  {
   "cell_type": "markdown",
   "metadata": {},
   "source": [
    "## Imports"
   ]
  },
  {
   "cell_type": "code",
   "execution_count": 1,
   "metadata": {
    "execution": {
     "iopub.execute_input": "2024-03-26T17:13:49.004952Z",
     "iopub.status.busy": "2024-03-26T17:13:49.003781Z",
     "iopub.status.idle": "2024-03-26T17:13:49.016370Z",
     "shell.execute_reply": "2024-03-26T17:13:49.015489Z",
     "shell.execute_reply.started": "2024-03-26T17:13:49.004904Z"
    }
   },
   "outputs": [
    {
     "name": "stdout",
     "output_type": "stream",
     "text": [
      "Running on PyMC v5.9.1\n"
     ]
    }
   ],
   "source": [
    "# Standard imports\n",
    "import pandas as pd\n",
    "import numpy as np\n",
    "import matplotlib.pyplot as plt\n",
    "import mlflow\n",
    "\n",
    "# Scikit-learn\n",
    "from sklearn.preprocessing import MaxAbsScaler, MinMaxScaler\n",
    "from sklearn.model_selection import train_test_split\n",
    "from sklearn.metrics import *\n",
    "\n",
    "# MMM imports\n",
    "import arviz as az\n",
    "import pymc as pm\n",
    "from pymc_marketing.mmm.transformers import geometric_adstock, logistic_saturation\n",
    "\n",
    "print(f\"Running on PyMC v{pm.__version__}\")"
   ]
  },
  {
   "cell_type": "markdown",
   "metadata": {},
   "source": [
    "## Read the data"
   ]
  },
  {
   "cell_type": "code",
   "execution_count": 2,
   "metadata": {
    "execution": {
     "iopub.execute_input": "2024-03-26T17:13:49.839076Z",
     "iopub.status.busy": "2024-03-26T17:13:49.837241Z",
     "iopub.status.idle": "2024-03-26T17:13:49.885437Z",
     "shell.execute_reply": "2024-03-26T17:13:49.884895Z",
     "shell.execute_reply.started": "2024-03-26T17:13:49.839013Z"
    }
   },
   "outputs": [
    {
     "data": {
      "text/html": [
       "<div>\n",
       "<style scoped>\n",
       "    .dataframe tbody tr th:only-of-type {\n",
       "        vertical-align: middle;\n",
       "    }\n",
       "\n",
       "    .dataframe tbody tr th {\n",
       "        vertical-align: top;\n",
       "    }\n",
       "\n",
       "    .dataframe thead th {\n",
       "        text-align: right;\n",
       "    }\n",
       "</style>\n",
       "<table border=\"1\" class=\"dataframe\">\n",
       "  <thead>\n",
       "    <tr style=\"text-align: right;\">\n",
       "      <th></th>\n",
       "      <th>date</th>\n",
       "      <th>revenue</th>\n",
       "      <th>tv_s</th>\n",
       "      <th>ooh_s</th>\n",
       "      <th>print_s</th>\n",
       "      <th>facebook_i</th>\n",
       "      <th>search_clicks_p</th>\n",
       "      <th>search_s</th>\n",
       "      <th>competitor_sales_b</th>\n",
       "      <th>facebook_s</th>\n",
       "      <th>newsletter</th>\n",
       "      <th>event1</th>\n",
       "      <th>event2</th>\n",
       "    </tr>\n",
       "  </thead>\n",
       "  <tbody>\n",
       "    <tr>\n",
       "      <th>0</th>\n",
       "      <td>2015-11-23</td>\n",
       "      <td>2.754372e+06</td>\n",
       "      <td>22358.346667</td>\n",
       "      <td>0.0</td>\n",
       "      <td>12728.488889</td>\n",
       "      <td>2.430128e+07</td>\n",
       "      <td>0.000000</td>\n",
       "      <td>0.000000</td>\n",
       "      <td>8125009</td>\n",
       "      <td>7607.132915</td>\n",
       "      <td>19401.653846</td>\n",
       "      <td>0</td>\n",
       "      <td>0</td>\n",
       "    </tr>\n",
       "    <tr>\n",
       "      <th>1</th>\n",
       "      <td>2015-11-30</td>\n",
       "      <td>2.584277e+06</td>\n",
       "      <td>28613.453333</td>\n",
       "      <td>0.0</td>\n",
       "      <td>0.000000</td>\n",
       "      <td>5.527033e+06</td>\n",
       "      <td>9837.238486</td>\n",
       "      <td>4133.333333</td>\n",
       "      <td>7901549</td>\n",
       "      <td>1141.952450</td>\n",
       "      <td>14791.000000</td>\n",
       "      <td>0</td>\n",
       "      <td>0</td>\n",
       "    </tr>\n",
       "    <tr>\n",
       "      <th>2</th>\n",
       "      <td>2015-12-07</td>\n",
       "      <td>2.547387e+06</td>\n",
       "      <td>0.000000</td>\n",
       "      <td>132278.4</td>\n",
       "      <td>453.866667</td>\n",
       "      <td>1.665159e+07</td>\n",
       "      <td>12044.119653</td>\n",
       "      <td>3786.666667</td>\n",
       "      <td>8300197</td>\n",
       "      <td>4256.375378</td>\n",
       "      <td>14544.000000</td>\n",
       "      <td>0</td>\n",
       "      <td>0</td>\n",
       "    </tr>\n",
       "    <tr>\n",
       "      <th>3</th>\n",
       "      <td>2015-12-14</td>\n",
       "      <td>2.875220e+06</td>\n",
       "      <td>83450.306667</td>\n",
       "      <td>0.0</td>\n",
       "      <td>17680.000000</td>\n",
       "      <td>1.054977e+07</td>\n",
       "      <td>12268.070319</td>\n",
       "      <td>4253.333333</td>\n",
       "      <td>8122883</td>\n",
       "      <td>2800.490677</td>\n",
       "      <td>2800.000000</td>\n",
       "      <td>0</td>\n",
       "      <td>0</td>\n",
       "    </tr>\n",
       "    <tr>\n",
       "      <th>4</th>\n",
       "      <td>2015-12-21</td>\n",
       "      <td>2.215953e+06</td>\n",
       "      <td>0.000000</td>\n",
       "      <td>277336.0</td>\n",
       "      <td>0.000000</td>\n",
       "      <td>2.934090e+06</td>\n",
       "      <td>9467.248023</td>\n",
       "      <td>3613.333333</td>\n",
       "      <td>7105985</td>\n",
       "      <td>689.582605</td>\n",
       "      <td>15478.000000</td>\n",
       "      <td>0</td>\n",
       "      <td>0</td>\n",
       "    </tr>\n",
       "  </tbody>\n",
       "</table>\n",
       "</div>"
      ],
      "text/plain": [
       "        date       revenue          tv_s     ooh_s       print_s  \\\n",
       "0 2015-11-23  2.754372e+06  22358.346667       0.0  12728.488889   \n",
       "1 2015-11-30  2.584277e+06  28613.453333       0.0      0.000000   \n",
       "2 2015-12-07  2.547387e+06      0.000000  132278.4    453.866667   \n",
       "3 2015-12-14  2.875220e+06  83450.306667       0.0  17680.000000   \n",
       "4 2015-12-21  2.215953e+06      0.000000  277336.0      0.000000   \n",
       "\n",
       "     facebook_i  search_clicks_p     search_s  competitor_sales_b  \\\n",
       "0  2.430128e+07         0.000000     0.000000             8125009   \n",
       "1  5.527033e+06      9837.238486  4133.333333             7901549   \n",
       "2  1.665159e+07     12044.119653  3786.666667             8300197   \n",
       "3  1.054977e+07     12268.070319  4253.333333             8122883   \n",
       "4  2.934090e+06      9467.248023  3613.333333             7105985   \n",
       "\n",
       "    facebook_s    newsletter  event1  event2  \n",
       "0  7607.132915  19401.653846       0       0  \n",
       "1  1141.952450  14791.000000       0       0  \n",
       "2  4256.375378  14544.000000       0       0  \n",
       "3  2800.490677   2800.000000       0       0  \n",
       "4   689.582605  15478.000000       0       0  "
      ]
     },
     "execution_count": 2,
     "metadata": {},
     "output_type": "execute_result"
    }
   ],
   "source": [
    "df = pd.read_csv('dt_simulated_weekly.csv', parse_dates = ['date'])\n",
    "df.head()"
   ]
  },
  {
   "cell_type": "markdown",
   "metadata": {},
   "source": [
    "## Categorise your input data"
   ]
  },
  {
   "cell_type": "code",
   "execution_count": 3,
   "metadata": {
    "execution": {
     "iopub.execute_input": "2024-03-26T17:13:50.513381Z",
     "iopub.status.busy": "2024-03-26T17:13:50.512939Z",
     "iopub.status.idle": "2024-03-26T17:13:50.540551Z",
     "shell.execute_reply": "2024-03-26T17:13:50.540093Z",
     "shell.execute_reply.started": "2024-03-26T17:13:50.513353Z"
    }
   },
   "outputs": [],
   "source": [
    "# Group inputs\n",
    "original_paid_features = sorted(['tv_s', 'ooh_s', 'print_s', 'facebook_s', 'search_s'])\n",
    "original_organic_features = sorted(['newsletter'])\n",
    "original_competitor_features = sorted(['competitor_sales_b'])\n",
    "original_control_features = sorted(['event1', 'event2'])\n",
    "EXCLUDED_FEATURES = sorted(['facebook_i', 'search_clicks_p'])\n",
    "\n",
    "# Gather all inputs into 1 sorted list\n",
    "all_original_features = sorted(original_paid_features +\n",
    "                               original_organic_features + \n",
    "                               original_competitor_features +\n",
    "                               original_control_features)\n",
    "\n",
    "# Create a feature selection dict\n",
    "# And to be able to access values with later on\n",
    "FEATURES = {\n",
    "    # Gather all inputs into 1 sorted list for logging\n",
    "    \"features_all_possible\": all_original_features,\n",
    "    \n",
    "    # Remove any features that the user specified earlier\n",
    "    \"features_included\": sorted(set(all_original_features) - set(EXCLUDED_FEATURES)),\n",
    "    \n",
    "    # Also log the excluded features\n",
    "    \"features_excluded\": EXCLUDED_FEATURES,\n",
    "    \n",
    "    # Update relevant feature groups to exclude user-specified features\n",
    "    \"features_paid\": sorted(set(original_paid_features) - set(EXCLUDED_FEATURES)),\n",
    "    \"features_organic\": sorted(set(original_organic_features) - set(EXCLUDED_FEATURES)),\n",
    "    \"features_competitor\": sorted(set(original_competitor_features) - set(EXCLUDED_FEATURES)),\n",
    "    \"features_control\": sorted(set(original_control_features) - set(EXCLUDED_FEATURES))\n",
    "} \n"
   ]
  },
  {
   "cell_type": "code",
   "execution_count": 4,
   "metadata": {
    "execution": {
     "iopub.execute_input": "2024-03-26T17:13:50.943896Z",
     "iopub.status.busy": "2024-03-26T17:13:50.942835Z",
     "iopub.status.idle": "2024-03-26T17:13:50.955537Z",
     "shell.execute_reply": "2024-03-26T17:13:50.954324Z",
     "shell.execute_reply.started": "2024-03-26T17:13:50.943851Z"
    }
   },
   "outputs": [],
   "source": [
    "# Split into X and y\n",
    "y = df.revenue.copy()\n",
    "\n",
    "# X includes control variables, organic media, paid media, and seasonality/time features\n",
    "X = df[FEATURES[\"features_included\"]].copy()\n",
    "X.index = df.date.copy()"
   ]
  },
  {
   "cell_type": "markdown",
   "metadata": {},
   "source": [
    "## Scaling"
   ]
  },
  {
   "cell_type": "code",
   "execution_count": 5,
   "metadata": {
    "execution": {
     "iopub.execute_input": "2024-03-26T17:13:51.572979Z",
     "iopub.status.busy": "2024-03-26T17:13:51.572385Z",
     "iopub.status.idle": "2024-03-26T17:13:51.593588Z",
     "shell.execute_reply": "2024-03-26T17:13:51.592996Z",
     "shell.execute_reply.started": "2024-03-26T17:13:51.572950Z"
    }
   },
   "outputs": [],
   "source": [
    "# Scale control variables - these are exogenous and require a MinMax scaling\n",
    "control_scaler = MinMaxScaler()\n",
    "X[FEATURES[\"features_control\"]] = control_scaler.fit_transform(X[FEATURES[\"features_control\"]])\n",
    "\n",
    "# Scale all media variables - these are exogenous too and require a MinMax scaling\n",
    "paid_scaler = MinMaxScaler()\n",
    "X[FEATURES[\"features_paid\"]] = paid_scaler.fit_transform(X[FEATURES[\"features_paid\"]])\n",
    "\n",
    "# Remaining media features to scale\n",
    "other_media_features = FEATURES[\"features_organic\"] + FEATURES[\"features_competitor\"]\n",
    "other_media_scaler = MinMaxScaler()\n",
    "\n",
    "X[other_media_features] = other_media_scaler.fit_transform(X[other_media_features])\n",
    "# Then make competitor negative (it's >0 after scaling) so that it's forced to subtract from Revenue\n",
    "# in our regression equation later\n",
    "X.competitor_sales_b = X.competitor_sales_b * -1\n",
    "\n",
    "# Also scale the target - the endogenous variable\n",
    "endog_scaler = MaxAbsScaler()\n",
    "y = endog_scaler.fit_transform(y.to_numpy().reshape(-1, 1)).flatten()"
   ]
  },
  {
   "cell_type": "markdown",
   "metadata": {},
   "source": [
    "## Trend"
   ]
  },
  {
   "cell_type": "code",
   "execution_count": 6,
   "metadata": {
    "execution": {
     "iopub.execute_input": "2024-03-26T17:13:52.224219Z",
     "iopub.status.busy": "2024-03-26T17:13:52.223431Z",
     "iopub.status.idle": "2024-03-26T17:13:52.242411Z",
     "shell.execute_reply": "2024-03-26T17:13:52.241684Z",
     "shell.execute_reply.started": "2024-03-26T17:13:52.224181Z"
    }
   },
   "outputs": [],
   "source": [
    "# Create trend feature - just a linear feature scaled between 0 and 1\n",
    "trend_feature = (X.index - X.index.min()) / (X.index.max() - X.index.min())\n",
    "X[\"trend_feature\"] = trend_feature"
   ]
  },
  {
   "cell_type": "markdown",
   "metadata": {},
   "source": [
    "## Seasonality"
   ]
  },
  {
   "cell_type": "code",
   "execution_count": 7,
   "metadata": {
    "execution": {
     "iopub.execute_input": "2024-03-26T17:13:52.695320Z",
     "iopub.status.busy": "2024-03-26T17:13:52.694513Z",
     "iopub.status.idle": "2024-03-26T17:13:52.724723Z",
     "shell.execute_reply": "2024-03-26T17:13:52.723852Z",
     "shell.execute_reply.started": "2024-03-26T17:13:52.695284Z"
    }
   },
   "outputs": [],
   "source": [
    "# Speficy number of fourier modes to use for seasonality (higher is more volatile)\n",
    "SEASONALITY_CONFIG = {\n",
    "    # 10 is the default value set by Prophet for yearly seasonality\n",
    "    \"seasonality_n_order\": 10\n",
    "}\n",
    "\n",
    "# Create fourier modes to represent seasonality in our data\n",
    "# Scale day of year\n",
    "periods = X.index.dayofyear / 365.25\n",
    "# Create modes\n",
    "fourier_features = pd.DataFrame(\n",
    "    {\n",
    "        f\"{func}_order_{order}\": getattr(np, func)(2 * np.pi * periods * order)\n",
    "        for order in range(1, SEASONALITY_CONFIG[\"seasonality_n_order\"] + 1)\n",
    "        for func in (\"sin\", \"cos\")\n",
    "    },\n",
    "    # Add date as index to concat with later\n",
    "    index=X.index\n",
    ")\n",
    "\n",
    "# Save seasonality columns for model coords later\n",
    "SEASONALITY_CONFIG[\"seasonality_features\"] = fourier_features.columns\n",
    "\n",
    "# Add seasonality to data\n",
    "X = pd.concat([X, fourier_features], axis=1)"
   ]
  },
  {
   "cell_type": "markdown",
   "metadata": {},
   "source": [
    "## Constructing a model"
   ]
  },
  {
   "cell_type": "code",
   "execution_count": 8,
   "metadata": {
    "execution": {
     "iopub.execute_input": "2024-03-26T17:13:52.903367Z",
     "iopub.status.busy": "2024-03-26T17:13:52.902636Z",
     "iopub.status.idle": "2024-03-26T17:13:52.916448Z",
     "shell.execute_reply": "2024-03-26T17:13:52.915545Z",
     "shell.execute_reply.started": "2024-03-26T17:13:52.903315Z"
    }
   },
   "outputs": [],
   "source": [
    "# Test and train split\n",
    "X_train, X_test, y_train, y_test, unscaled_y_train, unscaled_y_test = train_test_split(X, \n",
    "                                                                                       y, \n",
    "                                                                                       df.revenue.to_numpy(),\n",
    "                                                                                       test_size = 0.1, \n",
    "                                                                                       shuffle = False)"
   ]
  },
  {
   "cell_type": "code",
   "execution_count": 9,
   "metadata": {
    "execution": {
     "iopub.execute_input": "2024-03-26T17:13:53.028937Z",
     "iopub.status.busy": "2024-03-26T17:13:53.028158Z",
     "iopub.status.idle": "2024-03-26T17:14:08.277475Z",
     "shell.execute_reply": "2024-03-26T17:14:08.276961Z",
     "shell.execute_reply.started": "2024-03-26T17:13:53.028884Z"
    }
   },
   "outputs": [
    {
     "name": "stderr",
     "output_type": "stream",
     "text": [
      "Sampling: [beta_competitor_coeffs, beta_control_coeffs, beta_fourier, beta_organic_coeffs, beta_paid_coeffs, beta_trend, geoad_param_organic, geoad_param_paid, intercept, sat_lam, sigma, y_obs]\n"
     ]
    }
   ],
   "source": [
    "# Set seed for this cell\n",
    "rng = np.random.default_rng(42)\n",
    "\n",
    "# The data has two constant (not mutable) dimensions: channel (media/control/organic) and fourier mode (seasonality) \n",
    "# The \"coordinates\" are the unique values that these dimensions can take\n",
    "coords = {\"paid\": FEATURES['features_paid'],\n",
    "          \"organic\": FEATURES['features_organic'],\n",
    "          \"competitor\": FEATURES['features_competitor'], \n",
    "          \"control\": FEATURES['features_control'], \n",
    "          \"fourier_mode\": np.arange(SEASONALITY_CONFIG[\"seasonality_features\"].size),\n",
    "         }\n",
    "\n",
    "# Create model in context manager\n",
    "# Specify model coordinates from before\n",
    "with pm.Model(coords=coords) as mmm:\n",
    "\n",
    "    ##### ---- Mutable Coords ------ ####\n",
    "    # Add date as mutable coordinate - for out-of-sample prediction later on\n",
    "    mmm.add_coord(name=\"date\", values=X_train.index, mutable=True)\n",
    "\n",
    "    \n",
    "    ##### ---- Data Containers ------ ####\n",
    "    # Create container for channel data\n",
    "    paid_data = pm.MutableData(name = \"paid_data\", \n",
    "                                 value = X_train[FEATURES['features_paid']].to_numpy(),\n",
    "                                 dims = (\"date\", \"paid\"))\n",
    "\n",
    "    # Create container for organic data\n",
    "    organic_data = pm.MutableData(name = \"organic_data\", \n",
    "                                  value = X_train[FEATURES['features_organic']].to_numpy(),\n",
    "                                  dims = (\"date\", \"organic\"))    \n",
    "\n",
    "    # Create container for competitor data\n",
    "    competitor_data = pm.MutableData(name = \"competitor_data\", \n",
    "                                     value = X_train[FEATURES['features_competitor']].to_numpy(),\n",
    "                                     dims = (\"date\", \"competitor\"))     \n",
    "    \n",
    "    # Create container for control data\n",
    "    control_data = pm.MutableData(name = \"control_data\", \n",
    "                                 value = X_train[FEATURES['features_control']].to_numpy(),\n",
    "                                 dims = (\"date\", \"control\"))\n",
    "    \n",
    "    # Create container for trend data\n",
    "    trend_data = pm.MutableData(name = \"trend_data\", \n",
    "                                 value = X_train[\"trend_feature\"].to_numpy(),\n",
    "                                 dims = \"date\")\n",
    "    \n",
    "    # Create container for seasonality data\n",
    "    seasonality_data = pm.MutableData(name = \"seasonality_data\", \n",
    "                                 value = X_train[SEASONALITY_CONFIG[\"seasonality_features\"]].to_numpy(),\n",
    "                                 dims = (\"date\", \"fourier_mode\"))\n",
    "    \n",
    "    # Create container for y_obs data\n",
    "    # Instead of using pm.Normal directly for observed data,\n",
    "    # use pm.MutableData to be able to update it later (for the test/train split)\n",
    "    y_obs_data = pm.MutableData(name=\"y_obs_data\", value=y_train.flatten(), dims=\"date\")\n",
    "\n",
    "    ##### ---- Define priors ------ ####\n",
    "    ## prior for baseline intercept term\n",
    "    intercept =  pm.HalfNormal(\"intercept\", sigma=2)\n",
    "\n",
    "    ## prior for beta coeffecients / regressors\n",
    "    beta_paid_coeffs = pm.HalfNormal(\"beta_paid_coeffs\", sigma=2, dims=\"paid\")\n",
    "    \n",
    "    ## prior for beta organic coeffecients / regressors\n",
    "    beta_organic_coeffs = pm.HalfNormal(\"beta_organic_coeffs\", sigma=2, dims=\"organic\") \n",
    "    \n",
    "    ## prior for beta competitor coeffecient / regressor\n",
    "    beta_competitor_coeffs = pm.HalfNormal(\"beta_competitor_coeffs\", sigma=2, dims=\"competitor\")   \n",
    "\n",
    "    ## prior for beta control coeffecients / regressors\n",
    "    beta_control_coeffs = pm.Normal(\"beta_control_coeffs\", mu=0, sigma=2, dims=\"control\")    \n",
    "    \n",
    "    ## prior for trend\n",
    "    beta_trend = pm.Normal(name=\"beta_trend\", mu=0, sigma=2)\n",
    "\n",
    "    ## prior for seasonality\n",
    "    beta_fourier = pm.Laplace(name=\"beta_fourier\", mu=0, b=2, dims=\"fourier_mode\")\n",
    "\n",
    "    ## Geometric adstock prior\n",
    "    geoad_param_paid = pm.Beta(f\"geoad_param_paid\", alpha=1, beta=2, dims=\"paid\")\n",
    "    geoad_param_organic = pm.Beta(f\"geoad_param_organic\", alpha=1, beta=2, dims=\"organic\")   \n",
    "\n",
    "    ## Logistic saturation prior\n",
    "    sat_lam = pm.Gamma(f\"sat_lam\", alpha=3, beta=1, dims=\"paid\")\n",
    "\n",
    "    # prior for likelihood noise level (note : must be positive)\n",
    "    sigma = pm.HalfNormal(\"sigma\", sigma=0.5)\n",
    "    \n",
    "\n",
    "    ##### ----- Model Parameterisation ----- #####\n",
    "    ##### ----- Specify deterministic variables that feed the outcome variable ----- #####\n",
    "\n",
    "    ## PAID\n",
    "    ## Adstocking with Geometric\n",
    "    paid_adstock = pm.Deterministic(name=\"paid_adstock\", \n",
    "                                    var=geometric_adstock(x=paid_data, alpha=geoad_param_paid, l_max=12),\n",
    "                                    dims=(\"date\", \"paid\"))   \n",
    "    ## Saturation (Logistic Function) - only done for paid data\n",
    "    paid_adstock_saturated = pm.Deterministic(name=\"paid_adstock_saturated\",\n",
    "                                             var=logistic_saturation(x=paid_adstock, lam=sat_lam),                                           \n",
    "                                             dims=(\"date\", \"paid\"))   \n",
    "    # Contributions\n",
    "    paid_contributions = pm.Deterministic(name=\"paid_contributions\",\n",
    "                                             var=paid_adstock_saturated * beta_paid_coeffs,\n",
    "                                             dims=(\"date\", \"paid\"))\n",
    "\n",
    "    ## ORGANIC\n",
    "    ## Adstocking with Geometric\n",
    "    organic_adstock = pm.Deterministic(name=\"organic_adstock\", \n",
    "                                       var=geometric_adstock(x=organic_data, alpha=geoad_param_organic, l_max=12),\n",
    "                                       dims=(\"date\", \"organic\"))    \n",
    "    ## Contributions\n",
    "    organic_contributions = pm.Deterministic(name=\"organic_contributions\",\n",
    "                                             var=organic_adstock * beta_organic_coeffs,\n",
    "                                             dims=(\"date\", \"organic\"))\n",
    "\n",
    "    ## COMPETITOR - NOTE WE FORCED THIS NEGATIVE EARLIER DURING SCALING\n",
    "    competitor_contributions = pm.Deterministic(name=\"competitor_contributions\",\n",
    "                                                var = competitor_data * beta_competitor_coeffs,\n",
    "                                                dims=(\"date\", \"competitor\")) \n",
    "\n",
    "    ## CONTROL\n",
    "    control_contributions = pm.Deterministic(name=\"control_contributions\",\n",
    "                                             var=control_data * beta_control_coeffs,\n",
    "                                             dims=(\"date\", \"control\"))\n",
    "\n",
    "    ## TREND\n",
    "    trend = pm.Deterministic(name=\"trend\", var = intercept + beta_trend * trend_data, dims=\"date\")\n",
    "    ## SEASONALITY\n",
    "    seasonality = pm.Deterministic(name=\"seasonality\", var=pm.math.dot(seasonality_data, beta_fourier), dims=\"date\")\n",
    "    \n",
    "    # Expected value of outcome\n",
    "    mu = pm.Deterministic(name = \"mu\",\n",
    "                          var = paid_contributions.sum(axis=-1) + \n",
    "                                  organic_contributions.sum(axis=-1) +\n",
    "                                  competitor_contributions.sum(axis=-1) + # this is negative\n",
    "                                  control_contributions.sum(axis=-1) +\n",
    "                                  trend + \n",
    "                                  seasonality,\n",
    "                          dims=\"date\")\n",
    "\n",
    "\n",
    "    # Likelihood (sampling distribution) of observations\n",
    "    y_obs = pm.Normal(\"y_obs\", mu=mu, sigma=sigma, observed=y_obs_data, dims=\"date\")\n",
    "\n",
    "    # Sample the prior\n",
    "    mmm_prior_predictive = pm.sample_prior_predictive(samples=1000, random_seed=rng)"
   ]
  },
  {
   "cell_type": "code",
   "execution_count": 10,
   "metadata": {
    "execution": {
     "iopub.execute_input": "2024-03-26T17:14:08.278470Z",
     "iopub.status.busy": "2024-03-26T17:14:08.278375Z",
     "iopub.status.idle": "2024-03-26T17:14:08.835359Z",
     "shell.execute_reply": "2024-03-26T17:14:08.834903Z",
     "shell.execute_reply.started": "2024-03-26T17:14:08.278460Z"
    }
   },
   "outputs": [
    {
     "data": {
      "image/svg+xml": [
       "<?xml version=\"1.0\" encoding=\"UTF-8\" standalone=\"no\"?>\n",
       "<!DOCTYPE svg PUBLIC \"-//W3C//DTD SVG 1.1//EN\"\n",
       " \"http://www.w3.org/Graphics/SVG/1.1/DTD/svg11.dtd\">\n",
       "<!-- Generated by graphviz version 8.1.0 (0)\n",
       " -->\n",
       "<!-- Pages: 1 -->\n",
       "<svg width=\"1942pt\" height=\"836pt\"\n",
       " viewBox=\"0.00 0.00 1942.00 836.09\" xmlns=\"http://www.w3.org/2000/svg\" xmlns:xlink=\"http://www.w3.org/1999/xlink\">\n",
       "<g id=\"graph0\" class=\"graph\" transform=\"scale(1 1) rotate(0) translate(4 832.09)\">\n",
       "<polygon fill=\"white\" stroke=\"none\" points=\"-4,4 -4,-832.09 1938,-832.09 1938,4 -4,4\"/>\n",
       "<g id=\"clust1\" class=\"cluster\">\n",
       "<title>clusterdate (187) x paid (5)</title>\n",
       "<path fill=\"none\" stroke=\"black\" d=\"M824,-340.63C824,-340.63 958,-340.63 958,-340.63 964,-340.63 970,-346.63 970,-352.63 970,-352.63 970,-796.18 970,-796.18 970,-802.18 964,-808.18 958,-808.18 958,-808.18 824,-808.18 824,-808.18 818,-808.18 812,-802.18 812,-796.18 812,-796.18 812,-352.63 812,-352.63 812,-346.63 818,-340.63 824,-340.63\"/>\n",
       "<text text-anchor=\"middle\" x=\"905.75\" y=\"-347.83\" font-family=\"Times,serif\" font-size=\"14.00\">date (187) x paid (5)</text>\n",
       "</g>\n",
       "<g id=\"clust2\" class=\"cluster\">\n",
       "<title>clusterdate (187) x organic (1)</title>\n",
       "<path fill=\"none\" stroke=\"black\" d=\"M1020,-340.63C1020,-340.63 1146,-340.63 1146,-340.63 1152,-340.63 1158,-346.63 1158,-352.63 1158,-352.63 1158,-666.36 1158,-666.36 1158,-672.36 1152,-678.36 1146,-678.36 1146,-678.36 1020,-678.36 1020,-678.36 1014,-678.36 1008,-672.36 1008,-666.36 1008,-666.36 1008,-352.63 1008,-352.63 1008,-346.63 1014,-340.63 1020,-340.63\"/>\n",
       "<text text-anchor=\"middle\" x=\"1085.12\" y=\"-347.83\" font-family=\"Times,serif\" font-size=\"14.00\">date (187) x organic (1)</text>\n",
       "</g>\n",
       "<g id=\"clust3\" class=\"cluster\">\n",
       "<title>clusterdate (187) x competitor (1)</title>\n",
       "<path fill=\"none\" stroke=\"black\" d=\"M1186,-340.63C1186,-340.63 1332,-340.63 1332,-340.63 1338,-340.63 1344,-346.63 1344,-352.63 1344,-352.63 1344,-536.54 1344,-536.54 1344,-542.54 1338,-548.54 1332,-548.54 1332,-548.54 1186,-548.54 1186,-548.54 1180,-548.54 1174,-542.54 1174,-536.54 1174,-536.54 1174,-352.63 1174,-352.63 1174,-346.63 1180,-340.63 1186,-340.63\"/>\n",
       "<text text-anchor=\"middle\" x=\"1261.75\" y=\"-347.83\" font-family=\"Times,serif\" font-size=\"14.00\">date (187) x competitor (1)</text>\n",
       "</g>\n",
       "<g id=\"clust4\" class=\"cluster\">\n",
       "<title>clusterdate (187) x control (2)</title>\n",
       "<path fill=\"none\" stroke=\"black\" d=\"M1592,-340.63C1592,-340.63 1716,-340.63 1716,-340.63 1722,-340.63 1728,-346.63 1728,-352.63 1728,-352.63 1728,-536.54 1728,-536.54 1728,-542.54 1722,-548.54 1716,-548.54 1716,-548.54 1592,-548.54 1592,-548.54 1586,-548.54 1580,-542.54 1580,-536.54 1580,-536.54 1580,-352.63 1580,-352.63 1580,-346.63 1586,-340.63 1592,-340.63\"/>\n",
       "<text text-anchor=\"middle\" x=\"1656.25\" y=\"-347.83\" font-family=\"Times,serif\" font-size=\"14.00\">date (187) x control (2)</text>\n",
       "</g>\n",
       "<g id=\"clust5\" class=\"cluster\">\n",
       "<title>clusterdate (187)</title>\n",
       "<path fill=\"none\" stroke=\"black\" d=\"M20,-8C20,-8 210,-8 210,-8 216,-8 222,-14 222,-20 222,-20 222,-536.54 222,-536.54 222,-542.54 216,-548.54 210,-548.54 210,-548.54 20,-548.54 20,-548.54 14,-548.54 8,-542.54 8,-536.54 8,-536.54 8,-20 8,-20 8,-14 14,-8 20,-8\"/>\n",
       "<text text-anchor=\"middle\" x=\"186.25\" y=\"-15.2\" font-family=\"Times,serif\" font-size=\"14.00\">date (187)</text>\n",
       "</g>\n",
       "<g id=\"clust6\" class=\"cluster\">\n",
       "<title>clusterdate (187) x fourier_mode (20)</title>\n",
       "<path fill=\"none\" stroke=\"black\" d=\"M242,-450.54C242,-450.54 404,-450.54 404,-450.54 410,-450.54 416,-456.54 416,-462.54 416,-462.54 416,-536.54 416,-536.54 416,-542.54 410,-548.54 404,-548.54 404,-548.54 242,-548.54 242,-548.54 236,-548.54 230,-542.54 230,-536.54 230,-536.54 230,-462.54 230,-462.54 230,-456.54 236,-450.54 242,-450.54\"/>\n",
       "<text text-anchor=\"middle\" x=\"322.88\" y=\"-457.74\" font-family=\"Times,serif\" font-size=\"14.00\">date (187) x fourier_mode (20)</text>\n",
       "</g>\n",
       "<g id=\"clust7\" class=\"cluster\">\n",
       "<title>clusterpaid (5)</title>\n",
       "<path fill=\"none\" stroke=\"black\" d=\"M990,-698.27C990,-698.27 1425,-698.27 1425,-698.27 1431,-698.27 1437,-704.27 1437,-710.27 1437,-710.27 1437,-808.09 1437,-808.09 1437,-814.09 1431,-820.09 1425,-820.09 1425,-820.09 990,-820.09 990,-820.09 984,-820.09 978,-814.09 978,-808.09 978,-808.09 978,-710.27 978,-710.27 978,-704.27 984,-698.27 990,-698.27\"/>\n",
       "<text text-anchor=\"middle\" x=\"1407.62\" y=\"-705.47\" font-family=\"Times,serif\" font-size=\"14.00\">paid (5)</text>\n",
       "</g>\n",
       "<g id=\"clust8\" class=\"cluster\">\n",
       "<title>clusterorganic (1)</title>\n",
       "<path fill=\"none\" stroke=\"black\" d=\"M1178,-568.45C1178,-568.45 1559,-568.45 1559,-568.45 1565,-568.45 1571,-574.45 1571,-580.45 1571,-580.45 1571,-678.27 1571,-678.27 1571,-684.27 1565,-690.27 1559,-690.27 1559,-690.27 1178,-690.27 1178,-690.27 1172,-690.27 1166,-684.27 1166,-678.27 1166,-678.27 1166,-580.45 1166,-580.45 1166,-574.45 1172,-568.45 1178,-568.45\"/>\n",
       "<text text-anchor=\"middle\" x=\"1533\" y=\"-575.65\" font-family=\"Times,serif\" font-size=\"14.00\">organic (1)</text>\n",
       "</g>\n",
       "<g id=\"clust9\" class=\"cluster\">\n",
       "<title>clustercompetitor (1)</title>\n",
       "<path fill=\"none\" stroke=\"black\" d=\"M1364,-438.63C1364,-438.63 1560,-438.63 1560,-438.63 1566,-438.63 1572,-444.63 1572,-450.63 1572,-450.63 1572,-548.45 1572,-548.45 1572,-554.45 1566,-560.45 1560,-560.45 1560,-560.45 1364,-560.45 1364,-560.45 1358,-560.45 1352,-554.45 1352,-548.45 1352,-548.45 1352,-450.63 1352,-450.63 1352,-444.63 1358,-438.63 1364,-438.63\"/>\n",
       "<text text-anchor=\"middle\" x=\"1524.62\" y=\"-445.83\" font-family=\"Times,serif\" font-size=\"14.00\">competitor (1)</text>\n",
       "</g>\n",
       "<g id=\"clust10\" class=\"cluster\">\n",
       "<title>clustercontrol (2)</title>\n",
       "<path fill=\"none\" stroke=\"black\" d=\"M1748,-438.63C1748,-438.63 1914,-438.63 1914,-438.63 1920,-438.63 1926,-444.63 1926,-450.63 1926,-450.63 1926,-548.45 1926,-548.45 1926,-554.45 1920,-560.45 1914,-560.45 1914,-560.45 1748,-560.45 1748,-560.45 1742,-560.45 1736,-554.45 1736,-548.45 1736,-548.45 1736,-450.63 1736,-450.63 1736,-444.63 1742,-438.63 1748,-438.63\"/>\n",
       "<text text-anchor=\"middle\" x=\"1889.12\" y=\"-445.83\" font-family=\"Times,serif\" font-size=\"14.00\">control (2)</text>\n",
       "</g>\n",
       "<g id=\"clust11\" class=\"cluster\">\n",
       "<title>clusterfourier_mode (20)</title>\n",
       "<path fill=\"none\" stroke=\"black\" d=\"M684,-438.63C684,-438.63 792,-438.63 792,-438.63 798,-438.63 804,-444.63 804,-450.63 804,-450.63 804,-548.45 804,-548.45 804,-554.45 798,-560.45 792,-560.45 792,-560.45 684,-560.45 684,-560.45 678,-560.45 672,-554.45 672,-548.45 672,-548.45 672,-450.63 672,-450.63 672,-444.63 678,-438.63 684,-438.63\"/>\n",
       "<text text-anchor=\"middle\" x=\"745.75\" y=\"-445.83\" font-family=\"Times,serif\" font-size=\"14.00\">fourier_mode (20)</text>\n",
       "</g>\n",
       "<!-- paid_data -->\n",
       "<g id=\"node1\" class=\"node\">\n",
       "<title>paid_data</title>\n",
       "<path fill=\"lightgrey\" stroke=\"black\" d=\"M910.62,-800.18C910.62,-800.18 847.38,-800.18 847.38,-800.18 841.38,-800.18 835.38,-794.18 835.38,-788.18 835.38,-788.18 835.38,-754.68 835.38,-754.68 835.38,-748.68 841.38,-742.68 847.38,-742.68 847.38,-742.68 910.62,-742.68 910.62,-742.68 916.62,-742.68 922.62,-748.68 922.62,-754.68 922.62,-754.68 922.62,-788.18 922.62,-788.18 922.62,-794.18 916.62,-800.18 910.62,-800.18\"/>\n",
       "<text text-anchor=\"middle\" x=\"879\" y=\"-782.88\" font-family=\"Times,serif\" font-size=\"14.00\">paid_data</text>\n",
       "<text text-anchor=\"middle\" x=\"879\" y=\"-766.38\" font-family=\"Times,serif\" font-size=\"14.00\">~</text>\n",
       "<text text-anchor=\"middle\" x=\"879\" y=\"-749.88\" font-family=\"Times,serif\" font-size=\"14.00\">MutableData</text>\n",
       "</g>\n",
       "<!-- paid_adstock -->\n",
       "<g id=\"node3\" class=\"node\">\n",
       "<title>paid_adstock</title>\n",
       "<polygon fill=\"none\" stroke=\"black\" points=\"924.12,-670.36 833.88,-670.36 833.88,-612.86 924.12,-612.86 924.12,-670.36\"/>\n",
       "<text text-anchor=\"middle\" x=\"879\" y=\"-653.06\" font-family=\"Times,serif\" font-size=\"14.00\">paid_adstock</text>\n",
       "<text text-anchor=\"middle\" x=\"879\" y=\"-636.56\" font-family=\"Times,serif\" font-size=\"14.00\">~</text>\n",
       "<text text-anchor=\"middle\" x=\"879\" y=\"-620.06\" font-family=\"Times,serif\" font-size=\"14.00\">Deterministic</text>\n",
       "</g>\n",
       "<!-- paid_data&#45;&gt;paid_adstock -->\n",
       "<g id=\"edge3\" class=\"edge\">\n",
       "<title>paid_data&#45;&gt;paid_adstock</title>\n",
       "<path fill=\"none\" stroke=\"black\" d=\"M879,-742.38C879,-724.48 879,-701.03 879,-681.37\"/>\n",
       "<polygon fill=\"black\" stroke=\"black\" points=\"882.5,-681.6 879,-671.6 875.5,-681.6 882.5,-681.6\"/>\n",
       "</g>\n",
       "<!-- paid_adstock_saturated -->\n",
       "<g id=\"node2\" class=\"node\">\n",
       "<title>paid_adstock_saturated</title>\n",
       "<polygon fill=\"none\" stroke=\"black\" points=\"962.38,-540.54 819.62,-540.54 819.62,-483.04 962.38,-483.04 962.38,-540.54\"/>\n",
       "<text text-anchor=\"middle\" x=\"891\" y=\"-523.24\" font-family=\"Times,serif\" font-size=\"14.00\">paid_adstock_saturated</text>\n",
       "<text text-anchor=\"middle\" x=\"891\" y=\"-506.74\" font-family=\"Times,serif\" font-size=\"14.00\">~</text>\n",
       "<text text-anchor=\"middle\" x=\"891\" y=\"-490.24\" font-family=\"Times,serif\" font-size=\"14.00\">Deterministic</text>\n",
       "</g>\n",
       "<!-- paid_contributions -->\n",
       "<g id=\"node4\" class=\"node\">\n",
       "<title>paid_contributions</title>\n",
       "<polygon fill=\"none\" stroke=\"black\" points=\"949.62,-430.63 832.38,-430.63 832.38,-373.13 949.62,-373.13 949.62,-430.63\"/>\n",
       "<text text-anchor=\"middle\" x=\"891\" y=\"-413.33\" font-family=\"Times,serif\" font-size=\"14.00\">paid_contributions</text>\n",
       "<text text-anchor=\"middle\" x=\"891\" y=\"-396.83\" font-family=\"Times,serif\" font-size=\"14.00\">~</text>\n",
       "<text text-anchor=\"middle\" x=\"891\" y=\"-380.33\" font-family=\"Times,serif\" font-size=\"14.00\">Deterministic</text>\n",
       "</g>\n",
       "<!-- paid_adstock_saturated&#45;&gt;paid_contributions -->\n",
       "<g id=\"edge7\" class=\"edge\">\n",
       "<title>paid_adstock_saturated&#45;&gt;paid_contributions</title>\n",
       "<path fill=\"none\" stroke=\"black\" d=\"M891,-482.72C891,-470.23 891,-455.32 891,-441.78\"/>\n",
       "<polygon fill=\"black\" stroke=\"black\" points=\"894.5,-441.81 891,-431.81 887.5,-441.81 894.5,-441.81\"/>\n",
       "</g>\n",
       "<!-- paid_adstock&#45;&gt;paid_adstock_saturated -->\n",
       "<g id=\"edge4\" class=\"edge\">\n",
       "<title>paid_adstock&#45;&gt;paid_adstock_saturated</title>\n",
       "<path fill=\"none\" stroke=\"black\" d=\"M881.63,-612.56C883.31,-594.66 885.51,-571.22 887.36,-551.55\"/>\n",
       "<polygon fill=\"black\" stroke=\"black\" points=\"890.92,-552.06 888.37,-541.78 883.95,-551.41 890.92,-552.06\"/>\n",
       "</g>\n",
       "<!-- mu -->\n",
       "<g id=\"node14\" class=\"node\">\n",
       "<title>mu</title>\n",
       "<polygon fill=\"none\" stroke=\"black\" points=\"214.12,-320.73 123.88,-320.73 123.88,-263.23 214.12,-263.23 214.12,-320.73\"/>\n",
       "<text text-anchor=\"middle\" x=\"169\" y=\"-303.43\" font-family=\"Times,serif\" font-size=\"14.00\">mu</text>\n",
       "<text text-anchor=\"middle\" x=\"169\" y=\"-286.93\" font-family=\"Times,serif\" font-size=\"14.00\">~</text>\n",
       "<text text-anchor=\"middle\" x=\"169\" y=\"-270.43\" font-family=\"Times,serif\" font-size=\"14.00\">Deterministic</text>\n",
       "</g>\n",
       "<!-- paid_contributions&#45;&gt;mu -->\n",
       "<g id=\"edge24\" class=\"edge\">\n",
       "<title>paid_contributions&#45;&gt;mu</title>\n",
       "<path fill=\"none\" stroke=\"black\" d=\"M831.95,-398.82C690.07,-393.23 333.62,-375.24 223,-332.63 218.85,-331.04 214.73,-329.03 210.73,-326.77\"/>\n",
       "<polygon fill=\"black\" stroke=\"black\" points=\"212.99,-323.43 202.65,-321.13 209.3,-329.38 212.99,-323.43\"/>\n",
       "</g>\n",
       "<!-- organic_data -->\n",
       "<g id=\"node5\" class=\"node\">\n",
       "<title>organic_data</title>\n",
       "<path fill=\"lightgrey\" stroke=\"black\" d=\"M1107.62,-670.36C1107.62,-670.36 1044.38,-670.36 1044.38,-670.36 1038.38,-670.36 1032.38,-664.36 1032.38,-658.36 1032.38,-658.36 1032.38,-624.86 1032.38,-624.86 1032.38,-618.86 1038.38,-612.86 1044.38,-612.86 1044.38,-612.86 1107.62,-612.86 1107.62,-612.86 1113.62,-612.86 1119.62,-618.86 1119.62,-624.86 1119.62,-624.86 1119.62,-658.36 1119.62,-658.36 1119.62,-664.36 1113.62,-670.36 1107.62,-670.36\"/>\n",
       "<text text-anchor=\"middle\" x=\"1076\" y=\"-653.06\" font-family=\"Times,serif\" font-size=\"14.00\">organic_data</text>\n",
       "<text text-anchor=\"middle\" x=\"1076\" y=\"-636.56\" font-family=\"Times,serif\" font-size=\"14.00\">~</text>\n",
       "<text text-anchor=\"middle\" x=\"1076\" y=\"-620.06\" font-family=\"Times,serif\" font-size=\"14.00\">MutableData</text>\n",
       "</g>\n",
       "<!-- organic_adstock -->\n",
       "<g id=\"node7\" class=\"node\">\n",
       "<title>organic_adstock</title>\n",
       "<polygon fill=\"none\" stroke=\"black\" points=\"1128.25,-540.54 1023.75,-540.54 1023.75,-483.04 1128.25,-483.04 1128.25,-540.54\"/>\n",
       "<text text-anchor=\"middle\" x=\"1076\" y=\"-523.24\" font-family=\"Times,serif\" font-size=\"14.00\">organic_adstock</text>\n",
       "<text text-anchor=\"middle\" x=\"1076\" y=\"-506.74\" font-family=\"Times,serif\" font-size=\"14.00\">~</text>\n",
       "<text text-anchor=\"middle\" x=\"1076\" y=\"-490.24\" font-family=\"Times,serif\" font-size=\"14.00\">Deterministic</text>\n",
       "</g>\n",
       "<!-- organic_data&#45;&gt;organic_adstock -->\n",
       "<g id=\"edge8\" class=\"edge\">\n",
       "<title>organic_data&#45;&gt;organic_adstock</title>\n",
       "<path fill=\"none\" stroke=\"black\" d=\"M1076,-612.56C1076,-594.66 1076,-571.22 1076,-551.55\"/>\n",
       "<polygon fill=\"black\" stroke=\"black\" points=\"1079.5,-551.78 1076,-541.78 1072.5,-551.78 1079.5,-551.78\"/>\n",
       "</g>\n",
       "<!-- organic_contributions -->\n",
       "<g id=\"node6\" class=\"node\">\n",
       "<title>organic_contributions</title>\n",
       "<polygon fill=\"none\" stroke=\"black\" points=\"1150.25,-430.63 1015.75,-430.63 1015.75,-373.13 1150.25,-373.13 1150.25,-430.63\"/>\n",
       "<text text-anchor=\"middle\" x=\"1083\" y=\"-413.33\" font-family=\"Times,serif\" font-size=\"14.00\">organic_contributions</text>\n",
       "<text text-anchor=\"middle\" x=\"1083\" y=\"-396.83\" font-family=\"Times,serif\" font-size=\"14.00\">~</text>\n",
       "<text text-anchor=\"middle\" x=\"1083\" y=\"-380.33\" font-family=\"Times,serif\" font-size=\"14.00\">Deterministic</text>\n",
       "</g>\n",
       "<!-- organic_contributions&#45;&gt;mu -->\n",
       "<g id=\"edge21\" class=\"edge\">\n",
       "<title>organic_contributions&#45;&gt;mu</title>\n",
       "<path fill=\"none\" stroke=\"black\" d=\"M1043.38,-372.75C1023.54,-360.34 998.57,-347.11 974,-340.63 933.65,-330 262.58,-345.84 223,-332.63 218.47,-331.12 214.01,-329.08 209.7,-326.71\"/>\n",
       "<polygon fill=\"black\" stroke=\"black\" points=\"211.92,-323.35 201.57,-321.08 208.25,-329.31 211.92,-323.35\"/>\n",
       "</g>\n",
       "<!-- organic_adstock&#45;&gt;organic_contributions -->\n",
       "<g id=\"edge11\" class=\"edge\">\n",
       "<title>organic_adstock&#45;&gt;organic_contributions</title>\n",
       "<path fill=\"none\" stroke=\"black\" d=\"M1077.82,-482.72C1078.63,-470.23 1079.6,-455.32 1080.48,-441.78\"/>\n",
       "<polygon fill=\"black\" stroke=\"black\" points=\"1084.03,-442.02 1081.19,-431.81 1077.05,-441.57 1084.03,-442.02\"/>\n",
       "</g>\n",
       "<!-- competitor_contributions -->\n",
       "<g id=\"node8\" class=\"node\">\n",
       "<title>competitor_contributions</title>\n",
       "<polygon fill=\"none\" stroke=\"black\" points=\"1335.62,-430.63 1182.38,-430.63 1182.38,-373.13 1335.62,-373.13 1335.62,-430.63\"/>\n",
       "<text text-anchor=\"middle\" x=\"1259\" y=\"-413.33\" font-family=\"Times,serif\" font-size=\"14.00\">competitor_contributions</text>\n",
       "<text text-anchor=\"middle\" x=\"1259\" y=\"-396.83\" font-family=\"Times,serif\" font-size=\"14.00\">~</text>\n",
       "<text text-anchor=\"middle\" x=\"1259\" y=\"-380.33\" font-family=\"Times,serif\" font-size=\"14.00\">Deterministic</text>\n",
       "</g>\n",
       "<!-- competitor_contributions&#45;&gt;mu -->\n",
       "<g id=\"edge26\" class=\"edge\">\n",
       "<title>competitor_contributions&#45;&gt;mu</title>\n",
       "<path fill=\"none\" stroke=\"black\" d=\"M1224.41,-372.91C1206.83,-360.46 1184.47,-347.15 1162,-340.63 1111.89,-326.11 272.5,-349.09 223,-332.63 218.47,-331.13 214,-329.09 209.7,-326.72\"/>\n",
       "<polygon fill=\"black\" stroke=\"black\" points=\"211.92,-323.36 201.57,-321.09 208.25,-329.32 211.92,-323.36\"/>\n",
       "</g>\n",
       "<!-- competitor_data -->\n",
       "<g id=\"node9\" class=\"node\">\n",
       "<title>competitor_data</title>\n",
       "<path fill=\"lightgrey\" stroke=\"black\" d=\"M1299.25,-540.54C1299.25,-540.54 1218.75,-540.54 1218.75,-540.54 1212.75,-540.54 1206.75,-534.54 1206.75,-528.54 1206.75,-528.54 1206.75,-495.04 1206.75,-495.04 1206.75,-489.04 1212.75,-483.04 1218.75,-483.04 1218.75,-483.04 1299.25,-483.04 1299.25,-483.04 1305.25,-483.04 1311.25,-489.04 1311.25,-495.04 1311.25,-495.04 1311.25,-528.54 1311.25,-528.54 1311.25,-534.54 1305.25,-540.54 1299.25,-540.54\"/>\n",
       "<text text-anchor=\"middle\" x=\"1259\" y=\"-523.24\" font-family=\"Times,serif\" font-size=\"14.00\">competitor_data</text>\n",
       "<text text-anchor=\"middle\" x=\"1259\" y=\"-506.74\" font-family=\"Times,serif\" font-size=\"14.00\">~</text>\n",
       "<text text-anchor=\"middle\" x=\"1259\" y=\"-490.24\" font-family=\"Times,serif\" font-size=\"14.00\">MutableData</text>\n",
       "</g>\n",
       "<!-- competitor_data&#45;&gt;competitor_contributions -->\n",
       "<g id=\"edge12\" class=\"edge\">\n",
       "<title>competitor_data&#45;&gt;competitor_contributions</title>\n",
       "<path fill=\"none\" stroke=\"black\" d=\"M1259,-482.72C1259,-470.23 1259,-455.32 1259,-441.78\"/>\n",
       "<polygon fill=\"black\" stroke=\"black\" points=\"1262.5,-441.81 1259,-431.81 1255.5,-441.81 1262.5,-441.81\"/>\n",
       "</g>\n",
       "<!-- control_contributions -->\n",
       "<g id=\"node10\" class=\"node\">\n",
       "<title>control_contributions</title>\n",
       "<polygon fill=\"none\" stroke=\"black\" points=\"1720.12,-430.63 1587.88,-430.63 1587.88,-373.13 1720.12,-373.13 1720.12,-430.63\"/>\n",
       "<text text-anchor=\"middle\" x=\"1654\" y=\"-413.33\" font-family=\"Times,serif\" font-size=\"14.00\">control_contributions</text>\n",
       "<text text-anchor=\"middle\" x=\"1654\" y=\"-396.83\" font-family=\"Times,serif\" font-size=\"14.00\">~</text>\n",
       "<text text-anchor=\"middle\" x=\"1654\" y=\"-380.33\" font-family=\"Times,serif\" font-size=\"14.00\">Deterministic</text>\n",
       "</g>\n",
       "<!-- control_contributions&#45;&gt;mu -->\n",
       "<g id=\"edge22\" class=\"edge\">\n",
       "<title>control_contributions&#45;&gt;mu</title>\n",
       "<path fill=\"none\" stroke=\"black\" d=\"M1587.38,-384.02C1525.76,-369.32 1431.36,-349.06 1348,-340.63 1316.91,-337.49 252.66,-342.47 223,-332.63 218.47,-331.13 214,-329.09 209.7,-326.72\"/>\n",
       "<polygon fill=\"black\" stroke=\"black\" points=\"211.91,-323.36 201.56,-321.1 208.24,-329.32 211.91,-323.36\"/>\n",
       "</g>\n",
       "<!-- control_data -->\n",
       "<g id=\"node11\" class=\"node\">\n",
       "<title>control_data</title>\n",
       "<path fill=\"lightgrey\" stroke=\"black\" d=\"M1685.62,-540.54C1685.62,-540.54 1622.38,-540.54 1622.38,-540.54 1616.38,-540.54 1610.38,-534.54 1610.38,-528.54 1610.38,-528.54 1610.38,-495.04 1610.38,-495.04 1610.38,-489.04 1616.38,-483.04 1622.38,-483.04 1622.38,-483.04 1685.62,-483.04 1685.62,-483.04 1691.62,-483.04 1697.62,-489.04 1697.62,-495.04 1697.62,-495.04 1697.62,-528.54 1697.62,-528.54 1697.62,-534.54 1691.62,-540.54 1685.62,-540.54\"/>\n",
       "<text text-anchor=\"middle\" x=\"1654\" y=\"-523.24\" font-family=\"Times,serif\" font-size=\"14.00\">control_data</text>\n",
       "<text text-anchor=\"middle\" x=\"1654\" y=\"-506.74\" font-family=\"Times,serif\" font-size=\"14.00\">~</text>\n",
       "<text text-anchor=\"middle\" x=\"1654\" y=\"-490.24\" font-family=\"Times,serif\" font-size=\"14.00\">MutableData</text>\n",
       "</g>\n",
       "<!-- control_data&#45;&gt;control_contributions -->\n",
       "<g id=\"edge15\" class=\"edge\">\n",
       "<title>control_data&#45;&gt;control_contributions</title>\n",
       "<path fill=\"none\" stroke=\"black\" d=\"M1654,-482.72C1654,-470.23 1654,-455.32 1654,-441.78\"/>\n",
       "<polygon fill=\"black\" stroke=\"black\" points=\"1657.5,-441.81 1654,-431.81 1650.5,-441.81 1657.5,-441.81\"/>\n",
       "</g>\n",
       "<!-- y_obs -->\n",
       "<g id=\"node12\" class=\"node\">\n",
       "<title>y_obs</title>\n",
       "<ellipse fill=\"lightgrey\" stroke=\"black\" cx=\"169\" cy=\"-174.66\" rx=\"41.01\" ry=\"40.66\"/>\n",
       "<text text-anchor=\"middle\" x=\"169\" y=\"-186.11\" font-family=\"Times,serif\" font-size=\"14.00\">y_obs</text>\n",
       "<text text-anchor=\"middle\" x=\"169\" y=\"-169.61\" font-family=\"Times,serif\" font-size=\"14.00\">~</text>\n",
       "<text text-anchor=\"middle\" x=\"169\" y=\"-153.11\" font-family=\"Times,serif\" font-size=\"14.00\">Normal</text>\n",
       "</g>\n",
       "<!-- y_obs_data -->\n",
       "<g id=\"node17\" class=\"node\">\n",
       "<title>y_obs_data</title>\n",
       "<path fill=\"lightgrey\" stroke=\"black\" d=\"M200.62,-98C200.62,-98 137.38,-98 137.38,-98 131.38,-98 125.38,-92 125.38,-86 125.38,-86 125.38,-52.5 125.38,-52.5 125.38,-46.5 131.38,-40.5 137.38,-40.5 137.38,-40.5 200.62,-40.5 200.62,-40.5 206.62,-40.5 212.62,-46.5 212.62,-52.5 212.62,-52.5 212.62,-86 212.62,-86 212.62,-92 206.62,-98 200.62,-98\"/>\n",
       "<text text-anchor=\"middle\" x=\"169\" y=\"-80.7\" font-family=\"Times,serif\" font-size=\"14.00\">y_obs_data</text>\n",
       "<text text-anchor=\"middle\" x=\"169\" y=\"-64.2\" font-family=\"Times,serif\" font-size=\"14.00\">~</text>\n",
       "<text text-anchor=\"middle\" x=\"169\" y=\"-47.7\" font-family=\"Times,serif\" font-size=\"14.00\">MutableData</text>\n",
       "</g>\n",
       "<!-- y_obs&#45;&gt;y_obs_data -->\n",
       "<g id=\"edge1\" class=\"edge\">\n",
       "<title>y_obs&#45;&gt;y_obs_data</title>\n",
       "<path fill=\"none\" stroke=\"black\" d=\"M169,-133.68C169,-125.64 169,-117.21 169,-109.21\"/>\n",
       "<polygon fill=\"black\" stroke=\"black\" points=\"172.5,-109.28 169,-99.28 165.5,-109.28 172.5,-109.28\"/>\n",
       "</g>\n",
       "<!-- trend -->\n",
       "<g id=\"node13\" class=\"node\">\n",
       "<title>trend</title>\n",
       "<polygon fill=\"none\" stroke=\"black\" points=\"106.12,-430.63 15.88,-430.63 15.88,-373.13 106.12,-373.13 106.12,-430.63\"/>\n",
       "<text text-anchor=\"middle\" x=\"61\" y=\"-413.33\" font-family=\"Times,serif\" font-size=\"14.00\">trend</text>\n",
       "<text text-anchor=\"middle\" x=\"61\" y=\"-396.83\" font-family=\"Times,serif\" font-size=\"14.00\">~</text>\n",
       "<text text-anchor=\"middle\" x=\"61\" y=\"-380.33\" font-family=\"Times,serif\" font-size=\"14.00\">Deterministic</text>\n",
       "</g>\n",
       "<!-- trend&#45;&gt;mu -->\n",
       "<g id=\"edge25\" class=\"edge\">\n",
       "<title>trend&#45;&gt;mu</title>\n",
       "<path fill=\"none\" stroke=\"black\" d=\"M85.07,-372.66C94.19,-362.34 104.83,-350.73 115,-340.63 119.1,-336.56 123.49,-332.4 127.92,-328.33\"/>\n",
       "<polygon fill=\"black\" stroke=\"black\" points=\"129.83,-331.41 134.89,-322.11 125.13,-326.23 129.83,-331.41\"/>\n",
       "</g>\n",
       "<!-- mu&#45;&gt;y_obs -->\n",
       "<g id=\"edge27\" class=\"edge\">\n",
       "<title>mu&#45;&gt;y_obs</title>\n",
       "<path fill=\"none\" stroke=\"black\" d=\"M169,-262.77C169,-251.83 169,-238.97 169,-226.53\"/>\n",
       "<polygon fill=\"black\" stroke=\"black\" points=\"172.5,-226.77 169,-216.77 165.5,-226.77 172.5,-226.77\"/>\n",
       "</g>\n",
       "<!-- trend_data -->\n",
       "<g id=\"node15\" class=\"node\">\n",
       "<title>trend_data</title>\n",
       "<path fill=\"lightgrey\" stroke=\"black\" d=\"M92.62,-540.54C92.62,-540.54 29.37,-540.54 29.37,-540.54 23.37,-540.54 17.38,-534.54 17.38,-528.54 17.38,-528.54 17.38,-495.04 17.38,-495.04 17.38,-489.04 23.38,-483.04 29.38,-483.04 29.38,-483.04 92.62,-483.04 92.62,-483.04 98.62,-483.04 104.62,-489.04 104.62,-495.04 104.62,-495.04 104.62,-528.54 104.62,-528.54 104.62,-534.54 98.62,-540.54 92.62,-540.54\"/>\n",
       "<text text-anchor=\"middle\" x=\"61\" y=\"-523.24\" font-family=\"Times,serif\" font-size=\"14.00\">trend_data</text>\n",
       "<text text-anchor=\"middle\" x=\"61\" y=\"-506.74\" font-family=\"Times,serif\" font-size=\"14.00\">~</text>\n",
       "<text text-anchor=\"middle\" x=\"61\" y=\"-490.24\" font-family=\"Times,serif\" font-size=\"14.00\">MutableData</text>\n",
       "</g>\n",
       "<!-- trend_data&#45;&gt;trend -->\n",
       "<g id=\"edge18\" class=\"edge\">\n",
       "<title>trend_data&#45;&gt;trend</title>\n",
       "<path fill=\"none\" stroke=\"black\" d=\"M61,-482.72C61,-470.23 61,-455.32 61,-441.78\"/>\n",
       "<polygon fill=\"black\" stroke=\"black\" points=\"64.5,-441.81 61,-431.81 57.5,-441.81 64.5,-441.81\"/>\n",
       "</g>\n",
       "<!-- seasonality -->\n",
       "<g id=\"node16\" class=\"node\">\n",
       "<title>seasonality</title>\n",
       "<polygon fill=\"none\" stroke=\"black\" points=\"214.12,-430.63 123.88,-430.63 123.88,-373.13 214.12,-373.13 214.12,-430.63\"/>\n",
       "<text text-anchor=\"middle\" x=\"169\" y=\"-413.33\" font-family=\"Times,serif\" font-size=\"14.00\">seasonality</text>\n",
       "<text text-anchor=\"middle\" x=\"169\" y=\"-396.83\" font-family=\"Times,serif\" font-size=\"14.00\">~</text>\n",
       "<text text-anchor=\"middle\" x=\"169\" y=\"-380.33\" font-family=\"Times,serif\" font-size=\"14.00\">Deterministic</text>\n",
       "</g>\n",
       "<!-- seasonality&#45;&gt;mu -->\n",
       "<g id=\"edge23\" class=\"edge\">\n",
       "<title>seasonality&#45;&gt;mu</title>\n",
       "<path fill=\"none\" stroke=\"black\" d=\"M169,-372.81C169,-360.33 169,-345.41 169,-331.87\"/>\n",
       "<polygon fill=\"black\" stroke=\"black\" points=\"172.5,-331.91 169,-321.91 165.5,-331.91 172.5,-331.91\"/>\n",
       "</g>\n",
       "<!-- seasonality_data -->\n",
       "<g id=\"node18\" class=\"node\">\n",
       "<title>seasonality_data</title>\n",
       "<path fill=\"lightgrey\" stroke=\"black\" d=\"M331.62,-540.54C331.62,-540.54 250.38,-540.54 250.38,-540.54 244.38,-540.54 238.38,-534.54 238.38,-528.54 238.38,-528.54 238.38,-495.04 238.38,-495.04 238.38,-489.04 244.38,-483.04 250.38,-483.04 250.38,-483.04 331.62,-483.04 331.62,-483.04 337.62,-483.04 343.62,-489.04 343.62,-495.04 343.62,-495.04 343.62,-528.54 343.62,-528.54 343.62,-534.54 337.62,-540.54 331.62,-540.54\"/>\n",
       "<text text-anchor=\"middle\" x=\"291\" y=\"-523.24\" font-family=\"Times,serif\" font-size=\"14.00\">seasonality_data</text>\n",
       "<text text-anchor=\"middle\" x=\"291\" y=\"-506.74\" font-family=\"Times,serif\" font-size=\"14.00\">~</text>\n",
       "<text text-anchor=\"middle\" x=\"291\" y=\"-490.24\" font-family=\"Times,serif\" font-size=\"14.00\">MutableData</text>\n",
       "</g>\n",
       "<!-- seasonality_data&#45;&gt;seasonality -->\n",
       "<g id=\"edge20\" class=\"edge\">\n",
       "<title>seasonality_data&#45;&gt;seasonality</title>\n",
       "<path fill=\"none\" stroke=\"black\" d=\"M268.87,-482.71C256.99,-468.6 241.62,-451.76 226,-438.63 225.11,-437.88 224.19,-437.14 223.27,-436.39\"/>\n",
       "<polygon fill=\"black\" stroke=\"black\" points=\"225.71,-433.1 215.62,-429.87 221.5,-438.69 225.71,-433.1\"/>\n",
       "</g>\n",
       "<!-- intercept -->\n",
       "<g id=\"node19\" class=\"node\">\n",
       "<title>intercept</title>\n",
       "<ellipse fill=\"none\" stroke=\"black\" cx=\"482\" cy=\"-511.79\" rx=\"57.98\" ry=\"40.66\"/>\n",
       "<text text-anchor=\"middle\" x=\"482\" y=\"-523.24\" font-family=\"Times,serif\" font-size=\"14.00\">intercept</text>\n",
       "<text text-anchor=\"middle\" x=\"482\" y=\"-506.74\" font-family=\"Times,serif\" font-size=\"14.00\">~</text>\n",
       "<text text-anchor=\"middle\" x=\"482\" y=\"-490.24\" font-family=\"Times,serif\" font-size=\"14.00\">HalfNormal</text>\n",
       "</g>\n",
       "<!-- intercept&#45;&gt;trend -->\n",
       "<g id=\"edge16\" class=\"edge\">\n",
       "<title>intercept&#45;&gt;trend</title>\n",
       "<path fill=\"none\" stroke=\"black\" d=\"M459.95,-474C449.66,-460.33 436.11,-446.29 420,-438.63 391.41,-425.05 178.99,-437.18 117.18,-429.85\"/>\n",
       "<polygon fill=\"black\" stroke=\"black\" points=\"117.85,-426.24 107.4,-427.97 116.65,-433.13 117.85,-426.24\"/>\n",
       "</g>\n",
       "<!-- beta_trend -->\n",
       "<g id=\"node20\" class=\"node\">\n",
       "<title>beta_trend</title>\n",
       "<ellipse fill=\"none\" stroke=\"black\" cx=\"610\" cy=\"-511.79\" rx=\"51.62\" ry=\"40.66\"/>\n",
       "<text text-anchor=\"middle\" x=\"610\" y=\"-523.24\" font-family=\"Times,serif\" font-size=\"14.00\">beta_trend</text>\n",
       "<text text-anchor=\"middle\" x=\"610\" y=\"-506.74\" font-family=\"Times,serif\" font-size=\"14.00\">~</text>\n",
       "<text text-anchor=\"middle\" x=\"610\" y=\"-490.24\" font-family=\"Times,serif\" font-size=\"14.00\">Normal</text>\n",
       "</g>\n",
       "<!-- beta_trend&#45;&gt;trend -->\n",
       "<g id=\"edge17\" class=\"edge\">\n",
       "<title>beta_trend&#45;&gt;trend</title>\n",
       "<path fill=\"none\" stroke=\"black\" d=\"M588.73,-474.33C578.6,-460.53 565.15,-446.31 549,-438.63 528.67,-428.97 188.41,-435.51 117.28,-429.48\"/>\n",
       "<polygon fill=\"black\" stroke=\"black\" points=\"117.77,-425.88 107.39,-428 116.83,-432.82 117.77,-425.88\"/>\n",
       "</g>\n",
       "<!-- sigma -->\n",
       "<g id=\"node21\" class=\"node\">\n",
       "<title>sigma</title>\n",
       "<ellipse fill=\"none\" stroke=\"black\" cx=\"290\" cy=\"-291.98\" rx=\"57.98\" ry=\"40.66\"/>\n",
       "<text text-anchor=\"middle\" x=\"290\" y=\"-303.43\" font-family=\"Times,serif\" font-size=\"14.00\">sigma</text>\n",
       "<text text-anchor=\"middle\" x=\"290\" y=\"-286.93\" font-family=\"Times,serif\" font-size=\"14.00\">~</text>\n",
       "<text text-anchor=\"middle\" x=\"290\" y=\"-270.43\" font-family=\"Times,serif\" font-size=\"14.00\">HalfNormal</text>\n",
       "</g>\n",
       "<!-- sigma&#45;&gt;y_obs -->\n",
       "<g id=\"edge28\" class=\"edge\">\n",
       "<title>sigma&#45;&gt;y_obs</title>\n",
       "<path fill=\"none\" stroke=\"black\" d=\"M255.97,-258.55C240.35,-243.66 221.8,-225.98 205.86,-210.78\"/>\n",
       "<polygon fill=\"black\" stroke=\"black\" points=\"208.91,-208.91 199.26,-204.54 204.08,-213.98 208.91,-208.91\"/>\n",
       "</g>\n",
       "<!-- geoad_param_paid -->\n",
       "<g id=\"node22\" class=\"node\">\n",
       "<title>geoad_param_paid</title>\n",
       "<ellipse fill=\"none\" stroke=\"black\" cx=\"1070\" cy=\"-771.43\" rx=\"84.5\" ry=\"40.66\"/>\n",
       "<text text-anchor=\"middle\" x=\"1070\" y=\"-782.88\" font-family=\"Times,serif\" font-size=\"14.00\">geoad_param_paid</text>\n",
       "<text text-anchor=\"middle\" x=\"1070\" y=\"-766.38\" font-family=\"Times,serif\" font-size=\"14.00\">~</text>\n",
       "<text text-anchor=\"middle\" x=\"1070\" y=\"-749.88\" font-family=\"Times,serif\" font-size=\"14.00\">Beta</text>\n",
       "</g>\n",
       "<!-- geoad_param_paid&#45;&gt;paid_adstock -->\n",
       "<g id=\"edge2\" class=\"edge\">\n",
       "<title>geoad_param_paid&#45;&gt;paid_adstock</title>\n",
       "<path fill=\"none\" stroke=\"black\" d=\"M1030.89,-735.03C1014.36,-721.74 994.26,-707.6 974,-698.27 959.11,-691.41 952.77,-697.38 938,-690.27 930.66,-686.73 923.42,-682.12 916.66,-677.16\"/>\n",
       "<polygon fill=\"black\" stroke=\"black\" points=\"919.44,-674.11 909.39,-670.75 915.15,-679.64 919.44,-674.11\"/>\n",
       "</g>\n",
       "<!-- beta_paid_coeffs -->\n",
       "<g id=\"node23\" class=\"node\">\n",
       "<title>beta_paid_coeffs</title>\n",
       "<ellipse fill=\"none\" stroke=\"black\" cx=\"1352\" cy=\"-771.43\" rx=\"76.54\" ry=\"40.66\"/>\n",
       "<text text-anchor=\"middle\" x=\"1352\" y=\"-782.88\" font-family=\"Times,serif\" font-size=\"14.00\">beta_paid_coeffs</text>\n",
       "<text text-anchor=\"middle\" x=\"1352\" y=\"-766.38\" font-family=\"Times,serif\" font-size=\"14.00\">~</text>\n",
       "<text text-anchor=\"middle\" x=\"1352\" y=\"-749.88\" font-family=\"Times,serif\" font-size=\"14.00\">HalfNormal</text>\n",
       "</g>\n",
       "<!-- beta_paid_coeffs&#45;&gt;paid_contributions -->\n",
       "<g id=\"edge6\" class=\"edge\">\n",
       "<title>beta_paid_coeffs&#45;&gt;paid_contributions</title>\n",
       "<path fill=\"none\" stroke=\"black\" d=\"M1319.99,-734.25C1305.36,-720.31 1286.87,-705.91 1267,-698.27 1253.36,-693.02 1014.84,-700.08 1004,-690.27 920.36,-614.6 1038.4,-529.08 971,-438.63 967.62,-434.1 963.54,-430.13 959.02,-426.65\"/>\n",
       "<polygon fill=\"black\" stroke=\"black\" points=\"961.15,-423.2 950.89,-420.56 957.26,-429.02 961.15,-423.2\"/>\n",
       "</g>\n",
       "<!-- sat_lam -->\n",
       "<g id=\"node24\" class=\"node\">\n",
       "<title>sat_lam</title>\n",
       "<ellipse fill=\"none\" stroke=\"black\" cx=\"1215\" cy=\"-771.43\" rx=\"42.6\" ry=\"40.66\"/>\n",
       "<text text-anchor=\"middle\" x=\"1215\" y=\"-782.88\" font-family=\"Times,serif\" font-size=\"14.00\">sat_lam</text>\n",
       "<text text-anchor=\"middle\" x=\"1215\" y=\"-766.38\" font-family=\"Times,serif\" font-size=\"14.00\">~</text>\n",
       "<text text-anchor=\"middle\" x=\"1215\" y=\"-749.88\" font-family=\"Times,serif\" font-size=\"14.00\">Gamma</text>\n",
       "</g>\n",
       "<!-- sat_lam&#45;&gt;paid_adstock_saturated -->\n",
       "<g id=\"edge5\" class=\"edge\">\n",
       "<title>sat_lam&#45;&gt;paid_adstock_saturated</title>\n",
       "<path fill=\"none\" stroke=\"black\" d=\"M1197.67,-733.9C1189.23,-720.26 1177.68,-706.18 1163,-698.27 1144.7,-688.4 992.72,-702.64 976,-690.27 929.85,-656.11 960.17,-619.03 933,-568.45 929.57,-562.07 925.46,-555.64 921.16,-549.52\"/>\n",
       "<polygon fill=\"black\" stroke=\"black\" points=\"923.53,-547.83 914.79,-541.83 917.88,-551.97 923.53,-547.83\"/>\n",
       "</g>\n",
       "<!-- beta_organic_coeffs -->\n",
       "<g id=\"node25\" class=\"node\">\n",
       "<title>beta_organic_coeffs</title>\n",
       "<ellipse fill=\"none\" stroke=\"black\" cx=\"1474\" cy=\"-641.61\" rx=\"88.74\" ry=\"40.66\"/>\n",
       "<text text-anchor=\"middle\" x=\"1474\" y=\"-653.06\" font-family=\"Times,serif\" font-size=\"14.00\">beta_organic_coeffs</text>\n",
       "<text text-anchor=\"middle\" x=\"1474\" y=\"-636.56\" font-family=\"Times,serif\" font-size=\"14.00\">~</text>\n",
       "<text text-anchor=\"middle\" x=\"1474\" y=\"-620.06\" font-family=\"Times,serif\" font-size=\"14.00\">HalfNormal</text>\n",
       "</g>\n",
       "<!-- beta_organic_coeffs&#45;&gt;organic_contributions -->\n",
       "<g id=\"edge10\" class=\"edge\">\n",
       "<title>beta_organic_coeffs&#45;&gt;organic_contributions</title>\n",
       "<path fill=\"none\" stroke=\"black\" d=\"M1436.58,-604.46C1419.74,-590.53 1398.77,-576.13 1377,-568.45 1355.29,-560.8 1188.01,-574.79 1170,-560.45 1128.6,-527.49 1165.16,-488.78 1136.27,-439.81\"/>\n",
       "<polygon fill=\"black\" stroke=\"black\" points=\"1138.79,-438.27 1130.33,-431.88 1132.96,-442.15 1138.79,-438.27\"/>\n",
       "</g>\n",
       "<!-- geoad_param_organic -->\n",
       "<g id=\"node26\" class=\"node\">\n",
       "<title>geoad_param_organic</title>\n",
       "<ellipse fill=\"none\" stroke=\"black\" cx=\"1271\" cy=\"-641.61\" rx=\"96.7\" ry=\"40.66\"/>\n",
       "<text text-anchor=\"middle\" x=\"1271\" y=\"-653.06\" font-family=\"Times,serif\" font-size=\"14.00\">geoad_param_organic</text>\n",
       "<text text-anchor=\"middle\" x=\"1271\" y=\"-636.56\" font-family=\"Times,serif\" font-size=\"14.00\">~</text>\n",
       "<text text-anchor=\"middle\" x=\"1271\" y=\"-620.06\" font-family=\"Times,serif\" font-size=\"14.00\">Beta</text>\n",
       "</g>\n",
       "<!-- geoad_param_organic&#45;&gt;organic_adstock -->\n",
       "<g id=\"edge9\" class=\"edge\">\n",
       "<title>geoad_param_organic&#45;&gt;organic_adstock</title>\n",
       "<path fill=\"none\" stroke=\"black\" d=\"M1223.19,-605.9C1204.6,-593.23 1182.81,-579.35 1162,-568.45 1153.52,-564.01 1150.39,-565.07 1142,-560.45 1134.77,-556.48 1127.41,-551.84 1120.35,-547.04\"/>\n",
       "<polygon fill=\"black\" stroke=\"black\" points=\"1122.8,-543.79 1112.6,-540.92 1118.79,-549.52 1122.8,-543.79\"/>\n",
       "</g>\n",
       "<!-- beta_competitor_coeffs -->\n",
       "<g id=\"node27\" class=\"node\">\n",
       "<title>beta_competitor_coeffs</title>\n",
       "<ellipse fill=\"none\" stroke=\"black\" cx=\"1462\" cy=\"-511.79\" rx=\"102\" ry=\"40.66\"/>\n",
       "<text text-anchor=\"middle\" x=\"1462\" y=\"-523.24\" font-family=\"Times,serif\" font-size=\"14.00\">beta_competitor_coeffs</text>\n",
       "<text text-anchor=\"middle\" x=\"1462\" y=\"-506.74\" font-family=\"Times,serif\" font-size=\"14.00\">~</text>\n",
       "<text text-anchor=\"middle\" x=\"1462\" y=\"-490.24\" font-family=\"Times,serif\" font-size=\"14.00\">HalfNormal</text>\n",
       "</g>\n",
       "<!-- beta_competitor_coeffs&#45;&gt;competitor_contributions -->\n",
       "<g id=\"edge13\" class=\"edge\">\n",
       "<title>beta_competitor_coeffs&#45;&gt;competitor_contributions</title>\n",
       "<path fill=\"none\" stroke=\"black\" d=\"M1411.53,-476.06C1392.12,-463.46 1369.48,-449.63 1348,-438.63 1346.11,-437.67 1344.19,-436.71 1342.24,-435.76\"/>\n",
       "<polygon fill=\"black\" stroke=\"black\" points=\"1343.88,-432.19 1333.34,-431.09 1340.89,-438.52 1343.88,-432.19\"/>\n",
       "</g>\n",
       "<!-- beta_control_coeffs -->\n",
       "<g id=\"node28\" class=\"node\">\n",
       "<title>beta_control_coeffs</title>\n",
       "<ellipse fill=\"none\" stroke=\"black\" cx=\"1831\" cy=\"-511.79\" rx=\"87.15\" ry=\"40.66\"/>\n",
       "<text text-anchor=\"middle\" x=\"1831\" y=\"-523.24\" font-family=\"Times,serif\" font-size=\"14.00\">beta_control_coeffs</text>\n",
       "<text text-anchor=\"middle\" x=\"1831\" y=\"-506.74\" font-family=\"Times,serif\" font-size=\"14.00\">~</text>\n",
       "<text text-anchor=\"middle\" x=\"1831\" y=\"-490.24\" font-family=\"Times,serif\" font-size=\"14.00\">Normal</text>\n",
       "</g>\n",
       "<!-- beta_control_coeffs&#45;&gt;control_contributions -->\n",
       "<g id=\"edge14\" class=\"edge\">\n",
       "<title>beta_control_coeffs&#45;&gt;control_contributions</title>\n",
       "<path fill=\"none\" stroke=\"black\" d=\"M1787.44,-476.14C1770.62,-463.55 1750.9,-449.71 1732,-438.63 1730.45,-437.73 1728.88,-436.83 1727.29,-435.94\"/>\n",
       "<polygon fill=\"black\" stroke=\"black\" points=\"1729.43,-432.58 1718.97,-430.92 1726.11,-438.74 1729.43,-432.58\"/>\n",
       "</g>\n",
       "<!-- beta_fourier -->\n",
       "<g id=\"node29\" class=\"node\">\n",
       "<title>beta_fourier</title>\n",
       "<ellipse fill=\"none\" stroke=\"black\" cx=\"738\" cy=\"-511.79\" rx=\"57.98\" ry=\"40.66\"/>\n",
       "<text text-anchor=\"middle\" x=\"738\" y=\"-523.24\" font-family=\"Times,serif\" font-size=\"14.00\">beta_fourier</text>\n",
       "<text text-anchor=\"middle\" x=\"738\" y=\"-506.74\" font-family=\"Times,serif\" font-size=\"14.00\">~</text>\n",
       "<text text-anchor=\"middle\" x=\"738\" y=\"-490.24\" font-family=\"Times,serif\" font-size=\"14.00\">Laplace</text>\n",
       "</g>\n",
       "<!-- beta_fourier&#45;&gt;seasonality -->\n",
       "<g id=\"edge19\" class=\"edge\">\n",
       "<title>beta_fourier&#45;&gt;seasonality</title>\n",
       "<path fill=\"none\" stroke=\"black\" d=\"M713.72,-474.7C702.45,-460.96 687.8,-446.69 671,-438.63 631.61,-419.76 347.47,-408.56 224.96,-404.56\"/>\n",
       "<polygon fill=\"black\" stroke=\"black\" points=\"225.43,-401.04 215.32,-404.22 225.21,-408.04 225.43,-401.04\"/>\n",
       "</g>\n",
       "</g>\n",
       "</svg>\n"
      ],
      "text/plain": [
       "<graphviz.graphs.Digraph at 0x157e6dcd0>"
      ]
     },
     "execution_count": 10,
     "metadata": {},
     "output_type": "execute_result"
    }
   ],
   "source": [
    "# Plot the structure of the model\n",
    "pm.model_to_graphviz(model=mmm) "
   ]
  },
  {
   "cell_type": "code",
   "execution_count": 11,
   "metadata": {
    "execution": {
     "iopub.execute_input": "2024-03-26T17:14:08.836301Z",
     "iopub.status.busy": "2024-03-26T17:14:08.836166Z",
     "iopub.status.idle": "2024-03-26T17:15:58.532930Z",
     "shell.execute_reply": "2024-03-26T17:15:58.532557Z",
     "shell.execute_reply.started": "2024-03-26T17:14:08.836289Z"
    }
   },
   "outputs": [
    {
     "name": "stderr",
     "output_type": "stream",
     "text": [
      "Auto-assigning NUTS sampler...\n",
      "Initializing NUTS using jitter+adapt_diag...\n",
      "Multiprocess sampling (4 chains in 4 jobs)\n",
      "NUTS: [intercept, beta_paid_coeffs, beta_organic_coeffs, beta_competitor_coeffs, beta_control_coeffs, beta_trend, beta_fourier, geoad_param_paid, geoad_param_organic, sat_lam, sigma]\n"
     ]
    },
    {
     "data": {
      "text/html": [
       "\n",
       "<style>\n",
       "    /* Turns off some styling */\n",
       "    progress {\n",
       "        /* gets rid of default border in Firefox and Opera. */\n",
       "        border: none;\n",
       "        /* Needs to be in here for Safari polyfill so background images work as expected. */\n",
       "        background-size: auto;\n",
       "    }\n",
       "    progress:not([value]), progress:not([value])::-webkit-progress-bar {\n",
       "        background: repeating-linear-gradient(45deg, #7e7e7e, #7e7e7e 10px, #5c5c5c 10px, #5c5c5c 20px);\n",
       "    }\n",
       "    .progress-bar-interrupted, .progress-bar-interrupted::-webkit-progress-bar {\n",
       "        background: #F44336;\n",
       "    }\n",
       "</style>\n"
      ],
      "text/plain": [
       "<IPython.core.display.HTML object>"
      ]
     },
     "metadata": {},
     "output_type": "display_data"
    },
    {
     "data": {
      "text/html": [
       "\n",
       "    <div>\n",
       "      <progress value='6000' class='' max='6000' style='width:300px; height:20px; vertical-align: middle;'></progress>\n",
       "      100.00% [6000/6000 01:15&lt;00:00 Sampling 4 chains, 0 divergences]\n",
       "    </div>\n",
       "    "
      ],
      "text/plain": [
       "<IPython.core.display.HTML object>"
      ]
     },
     "metadata": {},
     "output_type": "display_data"
    },
    {
     "name": "stderr",
     "output_type": "stream",
     "text": [
      "Sampling 4 chains for 500 tune and 1_000 draw iterations (2_000 + 4_000 draws total) took 75 seconds.\n",
      "Sampling: [y_obs]\n"
     ]
    },
    {
     "data": {
      "text/html": [
       "\n",
       "<style>\n",
       "    /* Turns off some styling */\n",
       "    progress {\n",
       "        /* gets rid of default border in Firefox and Opera. */\n",
       "        border: none;\n",
       "        /* Needs to be in here for Safari polyfill so background images work as expected. */\n",
       "        background-size: auto;\n",
       "    }\n",
       "    progress:not([value]), progress:not([value])::-webkit-progress-bar {\n",
       "        background: repeating-linear-gradient(45deg, #7e7e7e, #7e7e7e 10px, #5c5c5c 10px, #5c5c5c 20px);\n",
       "    }\n",
       "    .progress-bar-interrupted, .progress-bar-interrupted::-webkit-progress-bar {\n",
       "        background: #F44336;\n",
       "    }\n",
       "</style>\n"
      ],
      "text/plain": [
       "<IPython.core.display.HTML object>"
      ]
     },
     "metadata": {},
     "output_type": "display_data"
    },
    {
     "data": {
      "text/html": [
       "\n",
       "    <div>\n",
       "      <progress value='4000' class='' max='4000' style='width:300px; height:20px; vertical-align: middle;'></progress>\n",
       "      100.00% [4000/4000 00:00&lt;00:00]\n",
       "    </div>\n",
       "    "
      ],
      "text/plain": [
       "<IPython.core.display.HTML object>"
      ]
     },
     "metadata": {},
     "output_type": "display_data"
    },
    {
     "data": {
      "text/html": [
       "\n",
       "<style>\n",
       "    /* Turns off some styling */\n",
       "    progress {\n",
       "        /* gets rid of default border in Firefox and Opera. */\n",
       "        border: none;\n",
       "        /* Needs to be in here for Safari polyfill so background images work as expected. */\n",
       "        background-size: auto;\n",
       "    }\n",
       "    progress:not([value]), progress:not([value])::-webkit-progress-bar {\n",
       "        background: repeating-linear-gradient(45deg, #7e7e7e, #7e7e7e 10px, #5c5c5c 10px, #5c5c5c 20px);\n",
       "    }\n",
       "    .progress-bar-interrupted, .progress-bar-interrupted::-webkit-progress-bar {\n",
       "        background: #F44336;\n",
       "    }\n",
       "</style>\n"
      ],
      "text/plain": [
       "<IPython.core.display.HTML object>"
      ]
     },
     "metadata": {},
     "output_type": "display_data"
    },
    {
     "data": {
      "text/html": [
       "\n",
       "    <div>\n",
       "      <progress value='4000' class='' max='4000' style='width:300px; height:20px; vertical-align: middle;'></progress>\n",
       "      100.00% [4000/4000 00:00&lt;00:00]\n",
       "    </div>\n",
       "    "
      ],
      "text/plain": [
       "<IPython.core.display.HTML object>"
      ]
     },
     "metadata": {},
     "output_type": "display_data"
    }
   ],
   "source": [
    "# Set seed for this cell\n",
    "rng = np.random.default_rng(42)\n",
    "\n",
    "# Fit model \n",
    "with mmm:\n",
    "    # Run MCMC algorithm\n",
    "    trace = pm.sample(draws=1000, # number of samples to draw from posterior distribution\n",
    "                      tune=500, # number of burn-in samples, samples that are discarded \n",
    "                      chains=4, # number Markov Chains (separate sequences of samples to pull)\n",
    "                      cores=4, # how many cores to run the model with, defaults to same number of chains\n",
    "                      target_accept=0.95, # default is 0.8, increasing gives models more chances to not get blocked (stuck in some param space) \n",
    "                      random_seed=rng)\n",
    "\n",
    "    # Sample from posteriors\n",
    "    mmm_posterior_predictive = pm.sample_posterior_predictive(trace=trace,\n",
    "                                                              # pass in earlier defined seedd\n",
    "                                                              random_seed = rng)\n",
    "\n",
    "    # Calculate elemwise log_likelihood of model given posteriors\n",
    "    # Used for LOOCV later\n",
    "    pm.compute_log_likelihood(trace)"
   ]
  },
  {
   "cell_type": "markdown",
   "metadata": {},
   "source": [
    "## Get Train Posterior Likelihoods and Convert to Revenue"
   ]
  },
  {
   "cell_type": "code",
   "execution_count": 12,
   "metadata": {
    "execution": {
     "iopub.execute_input": "2024-03-26T17:15:58.534382Z",
     "iopub.status.busy": "2024-03-26T17:15:58.534288Z",
     "iopub.status.idle": "2024-03-26T17:15:58.542720Z",
     "shell.execute_reply": "2024-03-26T17:15:58.542122Z",
     "shell.execute_reply.started": "2024-03-26T17:15:58.534373Z"
    }
   },
   "outputs": [],
   "source": [
    "# Get posterior likelihood, y_obs\n",
    "train_posterior_predictive_likelihood = az.extract(\n",
    "    data=mmm_posterior_predictive,\n",
    "    group=\"posterior_predictive\",\n",
    "    var_names=\"y_obs\")\n",
    "\n",
    "# Convert back from AbsMaxScaled value into revenue\n",
    "train_posterior_predictive_likelihood_inv = endog_scaler.inverse_transform(X=train_posterior_predictive_likelihood)"
   ]
  },
  {
   "cell_type": "markdown",
   "metadata": {},
   "source": [
    "## Specify Test Model"
   ]
  },
  {
   "cell_type": "code",
   "execution_count": 13,
   "metadata": {
    "execution": {
     "iopub.execute_input": "2024-03-26T17:15:58.543470Z",
     "iopub.status.busy": "2024-03-26T17:15:58.543269Z",
     "iopub.status.idle": "2024-03-26T17:15:59.575289Z",
     "shell.execute_reply": "2024-03-26T17:15:59.574983Z",
     "shell.execute_reply.started": "2024-03-26T17:15:58.543458Z"
    }
   },
   "outputs": [
    {
     "name": "stderr",
     "output_type": "stream",
     "text": [
      "Sampling: [geoad_param_paid, sat_lam, y_obs]\n"
     ]
    },
    {
     "data": {
      "text/html": [
       "\n",
       "<style>\n",
       "    /* Turns off some styling */\n",
       "    progress {\n",
       "        /* gets rid of default border in Firefox and Opera. */\n",
       "        border: none;\n",
       "        /* Needs to be in here for Safari polyfill so background images work as expected. */\n",
       "        background-size: auto;\n",
       "    }\n",
       "    progress:not([value]), progress:not([value])::-webkit-progress-bar {\n",
       "        background: repeating-linear-gradient(45deg, #7e7e7e, #7e7e7e 10px, #5c5c5c 10px, #5c5c5c 20px);\n",
       "    }\n",
       "    .progress-bar-interrupted, .progress-bar-interrupted::-webkit-progress-bar {\n",
       "        background: #F44336;\n",
       "    }\n",
       "</style>\n"
      ],
      "text/plain": [
       "<IPython.core.display.HTML object>"
      ]
     },
     "metadata": {},
     "output_type": "display_data"
    },
    {
     "data": {
      "text/html": [
       "\n",
       "    <div>\n",
       "      <progress value='4000' class='' max='4000' style='width:300px; height:20px; vertical-align: middle;'></progress>\n",
       "      100.00% [4000/4000 00:00&lt;00:00]\n",
       "    </div>\n",
       "    "
      ],
      "text/plain": [
       "<IPython.core.display.HTML object>"
      ]
     },
     "metadata": {},
     "output_type": "display_data"
    }
   ],
   "source": [
    "# Set seed for this cell\n",
    "rng = np.random.default_rng(42)\n",
    "\n",
    "# Update model with test data / dimensions\n",
    "coords = {\"date\": X.index}\n",
    "with mmm:\n",
    "    pm.set_data({\"paid_data\": X[FEATURES['features_paid']].to_numpy(),\n",
    "                 \"organic_data\": X[FEATURES['features_organic']].to_numpy(),\n",
    "                 \"competitor_data\": X[FEATURES['features_competitor']].to_numpy(),\n",
    "                 \"control_data\": X[FEATURES['features_control']].to_numpy(),\n",
    "                 \"y_obs_data\": y,\n",
    "                 \"trend_data\": X[\"trend_feature\"].to_numpy(),\n",
    "                 \"seasonality_data\": X[SEASONALITY_CONFIG[\"seasonality_features\"]].to_numpy()\n",
    "                }, \n",
    "                coords=coords\n",
    "               )\n",
    "    # Get the predictions using training MMM trace / idata\n",
    "    # i.e. the trace we had created earlier with training data\n",
    "    test_mmm_posterior_predictive = pm.sample_posterior_predictive(trace, random_seed = rng)"
   ]
  },
  {
   "cell_type": "markdown",
   "metadata": {},
   "source": [
    "## Get Test Posterior Likelihoods and Convert to Revenue"
   ]
  },
  {
   "cell_type": "code",
   "execution_count": 14,
   "metadata": {
    "execution": {
     "iopub.execute_input": "2024-03-26T17:15:59.575934Z",
     "iopub.status.busy": "2024-03-26T17:15:59.575836Z",
     "iopub.status.idle": "2024-03-26T17:15:59.585946Z",
     "shell.execute_reply": "2024-03-26T17:15:59.581571Z",
     "shell.execute_reply.started": "2024-03-26T17:15:59.575925Z"
    }
   },
   "outputs": [],
   "source": [
    "# Get posterior likelihood, y_obs\n",
    "test_posterior_predictive_likelihood = az.extract(\n",
    "    data=test_mmm_posterior_predictive,\n",
    "    group=\"posterior_predictive\",\n",
    "    var_names=\"y_obs\")\n",
    "\n",
    "# Convert back from AbsMaxScaled value into CS value\n",
    "test_posterior_predictive_likelihood_inv = endog_scaler.inverse_transform(X=test_posterior_predictive_likelihood)"
   ]
  },
  {
   "cell_type": "code",
   "execution_count": 15,
   "metadata": {
    "execution": {
     "iopub.execute_input": "2024-03-26T17:15:59.597363Z",
     "iopub.status.busy": "2024-03-26T17:15:59.597140Z",
     "iopub.status.idle": "2024-03-26T17:15:59.603350Z",
     "shell.execute_reply": "2024-03-26T17:15:59.602962Z",
     "shell.execute_reply.started": "2024-03-26T17:15:59.597342Z"
    }
   },
   "outputs": [],
   "source": [
    "# Get predictions\n",
    "train_preds = train_posterior_predictive_likelihood_inv.mean(axis=1)\n",
    "test_preds = test_posterior_predictive_likelihood_inv.mean(axis=1)\n",
    "# Filter test predictions to be ONLY OVER THE TEST PERIOD!!!!\n",
    "test_preds = test_preds[y_train.shape[0]:]"
   ]
  },
  {
   "cell_type": "markdown",
   "metadata": {},
   "source": [
    "## Model over full dataset"
   ]
  },
  {
   "cell_type": "code",
   "execution_count": 16,
   "metadata": {
    "execution": {
     "iopub.execute_input": "2024-03-26T17:21:28.716493Z",
     "iopub.status.busy": "2024-03-26T17:21:28.714770Z",
     "iopub.status.idle": "2024-03-26T17:21:28.734782Z",
     "shell.execute_reply": "2024-03-26T17:21:28.734122Z",
     "shell.execute_reply.started": "2024-03-26T17:21:28.716436Z"
    }
   },
   "outputs": [],
   "source": [
    "# Get predictions over the entire dataset\n",
    "y_pred = test_posterior_predictive_likelihood_inv.mean(axis=1)\n",
    "# Save as csv for MLFlow\n",
    "pd.DataFrame(y_pred, columns=[\"predictions\"]).to_csv(\"predictions.csv\", index=False)\n",
    "\n",
    "# Get true and observed target\n",
    "y_true = df.revenue.copy().to_numpy()"
   ]
  },
  {
   "cell_type": "code",
   "execution_count": 17,
   "metadata": {
    "execution": {
     "iopub.execute_input": "2024-03-26T17:15:59.608191Z",
     "iopub.status.busy": "2024-03-26T17:15:59.608048Z",
     "iopub.status.idle": "2024-03-26T17:15:59.615900Z",
     "shell.execute_reply": "2024-03-26T17:15:59.615440Z",
     "shell.execute_reply.started": "2024-03-26T17:15:59.608180Z"
    }
   },
   "outputs": [
    {
     "name": "stdout",
     "output_type": "stream",
     "text": [
      "Train R-Squared =  0.898957966907443\n",
      "Test R-Squared =  0.9353188390426042\n",
      "Full dataset R-Squared =  0.8948076076655335\n",
      "\n",
      "Train RMSE =  229383.05229631302\n",
      "Test RMSE =  479098.3326906881\n",
      "Full dataset RMSE =  566199.2156610779\n",
      "\n",
      "Train NRMSE =  0.07269839103985175\n",
      "Test NRMSE =  0.24747389928520497\n",
      "Full dataset NRMSE =  0.17944556746683418\n"
     ]
    }
   ],
   "source": [
    "def nrmse(y_true, y_pred):\n",
    "    \"\"\"\n",
    "    Normalized Root Mean Square Error.\n",
    "    Args:\n",
    "        y_true ([np.array]): test samples\n",
    "        y_pred ([np.array]): predicted samples\n",
    "    Returns:\n",
    "        [float]: normalized root mean square error\n",
    "    \"\"\"\n",
    "    return rmse(y_true, y_pred) / (y_true.max() - y_true.min())\n",
    "\n",
    "# Error metric functions\n",
    "def rmse(y_true, y_pred):\n",
    "    \"\"\"\n",
    "    Root Mean Square Error\n",
    "    \"\"\"\n",
    "    return np.sqrt(mean_squared_error(y_true, y_pred))\n",
    "\n",
    "# Create metric dict for mlflow - fill it with NaNs as placeholder values if they metrics can't be calculated\n",
    "model_metrics = {\n",
    "    \"r_squared_train\": np.NaN,\n",
    "    \"r_squared_train_std\": np.NaN,\n",
    "    \"r_squared_test\": np.NaN,\n",
    "    \"r_squared_test_std\": np.NaN,\n",
    "    \"r_squared\": np.NaN,\n",
    "    \"rmse_train\": np.NaN,\n",
    "    \"rmse_test\": np.NaN,\n",
    "    \"rmse\": np.NaN,\n",
    "    \"nrmse_train\": np.NaN,\n",
    "    \"nrmse_test\": np.NaN,\n",
    "}\n",
    "\n",
    "# Handle NaNs to allow code to run\n",
    "try:\n",
    "    # Calculate Bayesian R-squared\n",
    "    model_metrics[\"r_squared_train\"] = az.r2_score(unscaled_y_train, train_preds)[\"r2\"]\n",
    "    model_metrics[\"r_squared_train_std\"] = az.r2_score(unscaled_y_train, train_preds)[\"r2_std\"]\n",
    "    model_metrics[\"r_squared_test\"] = az.r2_score(unscaled_y_test, test_preds)[\"r2\"]\n",
    "    model_metrics[\"r_squared_test_std\"] = az.r2_score(unscaled_y_test, test_preds)[\"r2_std\"]\n",
    "    model_metrics[\"r_squared\"] = az.r2_score(y_true, y_pred)[\"r2\"]\n",
    "    \n",
    "    print(\"Train R-Squared = \", model_metrics[\"r_squared_train\"])\n",
    "    print(\"Test R-Squared = \", model_metrics[\"r_squared_test\"])\n",
    "    print(\"Full dataset R-Squared = \", model_metrics[\"r_squared\"])\n",
    "    \n",
    "    \n",
    "    # Calculate RMSE\n",
    "    model_metrics[\"rmse_train\"] = rmse(unscaled_y_train, train_preds)\n",
    "    model_metrics[\"rmse_test\"] = rmse(unscaled_y_test, test_preds)\n",
    "    model_metrics[\"rmse\"] = rmse(y_true, y_pred)\n",
    "    print(\"\")\n",
    "    print(\"Train RMSE = \", model_metrics[\"rmse_train\"])\n",
    "    print(\"Test RMSE = \", model_metrics[\"rmse_test\"])\n",
    "    print(\"Full dataset RMSE = \", model_metrics[\"rmse\"])\n",
    "    \n",
    "    # Calculate NRMSE - Robyn metric\n",
    "    model_metrics[\"nrmse_train\"] = nrmse(unscaled_y_train, train_preds)\n",
    "    model_metrics[\"nrmse_test\"] = nrmse(unscaled_y_test, test_preds)\n",
    "    model_metrics[\"nrmse\"] = nrmse(y_true, y_pred)\n",
    "    print(\"\")\n",
    "    print(\"Train NRMSE = \", model_metrics[\"nrmse_train\"])\n",
    "    print(\"Test NRMSE = \", model_metrics[\"nrmse_test\"])\n",
    "    print(\"Full dataset NRMSE = \", model_metrics[\"nrmse\"])\n",
    "\n",
    "except ValueError:\n",
    "    print(\"Some NaNs were present\")"
   ]
  },
  {
   "cell_type": "markdown",
   "metadata": {},
   "source": [
    "## Model plots"
   ]
  },
  {
   "cell_type": "code",
   "execution_count": 18,
   "metadata": {
    "execution": {
     "iopub.execute_input": "2024-03-26T17:15:59.618157Z",
     "iopub.status.busy": "2024-03-26T17:15:59.618004Z",
     "iopub.status.idle": "2024-03-26T17:15:59.621277Z",
     "shell.execute_reply": "2024-03-26T17:15:59.620897Z",
     "shell.execute_reply.started": "2024-03-26T17:15:59.618145Z"
    }
   },
   "outputs": [],
   "source": [
    "def plot_predictions_vs_actuals(data_index, actual_data, predictions, dataset_type='Test', title=None):\n",
    "    \"\"\"\n",
    "    Plot predictions against actual data, label axes, and return the figure object.\n",
    "    \n",
    "    :param data_index: Index for the x-axis, typically the dates from the dataset.\n",
    "    :param actual_data: The actual data to be plotted.\n",
    "    :param predictions: The predicted data to be plotted.\n",
    "    :param dataset_type: The type of dataset being plotted ('Test' or 'Train').\n",
    "    :param title: Title for the plot. If None, a default title is generated based on dataset_type.\n",
    "    :return: The matplotlib figure object.\n",
    "    \"\"\"\n",
    "    if title is None:\n",
    "        title = f\"{dataset_type} Set | Predictions vs Actuals\"\n",
    "\n",
    "    f, ax = plt.subplots(figsize=(12, 8))\n",
    "    ax.set_title(title)\n",
    "    ax.plot(data_index, actual_data, label=\"Actual Revenue\", marker='o')\n",
    "    ax.plot(data_index, predictions, label=\"Pred Revenue\", marker='x')\n",
    "    ax.set_xlabel(\"Date\")\n",
    "    ax.set_ylabel(\"Revenue\")\n",
    "    ax.legend()\n",
    "    plt.show()\n",
    "    \n",
    "    return f"
   ]
  },
  {
   "cell_type": "code",
   "execution_count": 19,
   "metadata": {
    "execution": {
     "iopub.execute_input": "2024-03-26T17:19:29.104701Z",
     "iopub.status.busy": "2024-03-26T17:19:29.103949Z",
     "iopub.status.idle": "2024-03-26T17:19:29.601157Z",
     "shell.execute_reply": "2024-03-26T17:19:29.600781Z",
     "shell.execute_reply.started": "2024-03-26T17:19:29.104664Z"
    }
   },
   "outputs": [
    {
     "data": {
      "image/png": "[encoded data removed]",
      "text/plain": [
       "<Figure size 1200x800 with 1 Axes>"
      ]
     },
     "metadata": {},
     "output_type": "display_data"
    },
    {
     "data": {
      "image/png": "[encoded data removed]",
      "text/plain": [
       "<Figure size 1200x800 with 1 Axes>"
      ]
     },
     "metadata": {},
     "output_type": "display_data"
    }
   ],
   "source": [
    "# Plot predictions vs actuals\n",
    "train_plot = plot_predictions_vs_actuals(X_train.index, unscaled_y_train, train_preds, dataset_type=\"Train\")\n",
    "test_plot = plot_predictions_vs_actuals(X_test.index, unscaled_y_test, test_preds, dataset_type=\"Test\")\n",
    "\n",
    "# Save for MLFlow\n",
    "train_plot.savefig(\"train_plot.png\")\n",
    "test_plot.savefig(\"test_plot.png\")"
   ]
  },
  {
   "cell_type": "markdown",
   "metadata": {},
   "source": [
    "# MLFlow Tracking"
   ]
  },
  {
   "cell_type": "code",
   "execution_count": 20,
   "metadata": {
    "execution": {
     "iopub.execute_input": "2024-03-26T17:26:59.377813Z",
     "iopub.status.busy": "2024-03-26T17:26:59.376572Z",
     "iopub.status.idle": "2024-03-26T17:26:59.607174Z",
     "shell.execute_reply": "2024-03-26T17:26:59.606846Z",
     "shell.execute_reply.started": "2024-03-26T17:26:59.377737Z"
    }
   },
   "outputs": [],
   "source": [
    "# Initiate the MLflow run context\n",
    "with mlflow.start_run() as run:\n",
    "\n",
    "    # Log the pre-processing steps taken\n",
    "    mlflow.log_params(FEATURES)\n",
    "    mlflow.log_params(SEASONALITY_CONFIG)\n",
    "    \n",
    "\n",
    "    # Log artifacts\n",
    "    mlflow.log_figure(train_plot, \"graphs/train_plot.png\")\n",
    "    mlflow.log_figure(test_plot, \"graphs/test_plot.png\")\n",
    "    # Also log the csvs\n",
    "    mlflow.log_artifact(\"predictions.csv\", \"output_data\")\n",
    "\n",
    "    # Log model metrics\n",
    "    mlflow.log_metrics(model_metrics)"
   ]
  },
  {
   "cell_type": "markdown",
   "metadata": {},
   "source": [
    "**Use the below command to host MLFlow locally - it will run from your notebook (so the notebook will be out of action until you interrupt the kernel). You can also run mlflow ui from terminal too**"
   ]
  },
  {
   "cell_type": "code",
   "execution_count": null,
   "metadata": {
    "execution": {
     "iopub.execute_input": "2024-03-26T17:27:00.801308Z",
     "iopub.status.busy": "2024-03-26T17:27:00.799657Z",
     "iopub.status.idle": "2024-03-26T17:28:12.126255Z",
     "shell.execute_reply": "2024-03-26T17:28:12.124757Z",
     "shell.execute_reply.started": "2024-03-26T17:27:00.801251Z"
    }
   },
   "outputs": [],
   "source": [
    "!mlflow ui"
   ]
  }
 ],
 "metadata": {
  "kernelspec": {
   "display_name": "Python 3 (ipykernel)",
   "language": "python",
   "name": "python3"
  },
  "language_info": {
   "codemirror_mode": {
    "name": "ipython",
    "version": 3
   },
   "file_extension": ".py",
   "mimetype": "text/x-python",
   "name": "python",
   "nbconvert_exporter": "python",
   "pygments_lexer": "ipython3",
   "version": "3.11.6"
  }
 },
 "nbformat": 4,
 "nbformat_minor": 4
}
